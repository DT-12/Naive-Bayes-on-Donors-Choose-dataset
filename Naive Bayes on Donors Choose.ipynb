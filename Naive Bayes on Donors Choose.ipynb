{
 "cells": [
  {
   "cell_type": "markdown",
   "id": "b78931e2",
   "metadata": {},
   "source": [
    "### Donors Choose Dataset"
   ]
  },
  {
   "cell_type": "code",
   "execution_count": 1,
   "id": "2df70de7",
   "metadata": {},
   "outputs": [],
   "source": [
    "import pandas as pd\n",
    "import numpy as np\n",
    "import matplotlib.pyplot as plt\n"
   ]
  },
  {
   "cell_type": "code",
   "execution_count": 2,
   "id": "4b4aec39",
   "metadata": {},
   "outputs": [],
   "source": [
    "data = pd.read_csv('train_data.csv')\n",
    "resource = pd.read_csv('resources.csv')"
   ]
  },
  {
   "cell_type": "code",
   "execution_count": 3,
   "id": "b80873b7",
   "metadata": {},
   "outputs": [
    {
     "name": "stdout",
     "output_type": "stream",
     "text": [
      "Index(['id', 'description', 'quantity', 'price'], dtype='object')\n",
      "**********\n",
      "Index(['Unnamed: 0', 'id', 'teacher_id', 'teacher_prefix', 'school_state',\n",
      "       'project_submitted_datetime', 'project_grade_category',\n",
      "       'project_subject_categories', 'project_subject_subcategories',\n",
      "       'project_title', 'project_essay_1', 'project_essay_2',\n",
      "       'project_essay_3', 'project_essay_4', 'project_resource_summary',\n",
      "       'teacher_number_of_previously_posted_projects', 'project_is_approved'],\n",
      "      dtype='object')\n",
      "Number of data points in train data (109248, 17)\n",
      "Number of data points in resource data (1541272, 4)\n"
     ]
    }
   ],
   "source": [
    "print(resource.columns)\n",
    "print(\"*\"* 10)\n",
    "print(data.columns)\n",
    "print(\"Number of data points in train data\", data.shape)\n",
    "print(\"Number of data points in resource data\", resource.shape)\n"
   ]
  },
  {
   "cell_type": "code",
   "execution_count": 4,
   "id": "d680187a",
   "metadata": {},
   "outputs": [
    {
     "name": "stdout",
     "output_type": "stream",
     "text": [
      "Mrs.       57269\n",
      "Ms.        38955\n",
      "Mr.        10648\n",
      "Teacher     2360\n",
      "Dr.           13\n",
      "Name: teacher_prefix, dtype: int64\n",
      "Number of Nan values in teacher_prefix =  3\n"
     ]
    }
   ],
   "source": [
    "\"\"\"Removing NaN values from teacher_prefix\"\"\"\n",
    "\n",
    "print(data['teacher_prefix'].value_counts())\n",
    "\n",
    "\n",
    "# first checking how many times Nan value occurs in teacher_prefix and deleting those rows if the number is small\n",
    "\n",
    "cleaned_teacher_prefix = [x for x in data['teacher_prefix'].values if str(x) != 'nan']\n",
    "print(\"Number of Nan values in teacher_prefix = \", len(data['teacher_prefix'].values) - len(cleaned_teacher_prefix))\n",
    "data.dropna(subset=['teacher_prefix'], inplace=True)\n",
    "\n",
    "\n"
   ]
  },
  {
   "cell_type": "code",
   "execution_count": 5,
   "id": "eefbb38a",
   "metadata": {},
   "outputs": [
    {
     "data": {
      "text/plain": [
       "Mrs.       57269\n",
       "Ms.        38955\n",
       "Mr.        10648\n",
       "Teacher     2360\n",
       "Dr.           13\n",
       "Name: teacher_prefix, dtype: int64"
      ]
     },
     "execution_count": 5,
     "metadata": {},
     "output_type": "execute_result"
    }
   ],
   "source": [
    "data['teacher_prefix'].value_counts()"
   ]
  },
  {
   "cell_type": "code",
   "execution_count": 6,
   "id": "cfe50858",
   "metadata": {},
   "outputs": [
    {
     "name": "stderr",
     "output_type": "stream",
     "text": [
      "C:\\Users\\yerpu\\AppData\\Local\\Temp\\ipykernel_15556\\647653877.py:2: FutureWarning: The default value of regex will change from True to False in a future version.\n",
      "  data['teacher_prefix'] = data['teacher_prefix'].str.replace(r'[^\\w\\s]+', '')\n"
     ]
    }
   ],
   "source": [
    "data['teacher_prefix'].value_counts()\n",
    "data['teacher_prefix'] = data['teacher_prefix'].str.replace(r'[^\\w\\s]+', '')\n"
   ]
  },
  {
   "cell_type": "code",
   "execution_count": 7,
   "id": "6966c0c8",
   "metadata": {},
   "outputs": [
    {
     "data": {
      "text/plain": [
       "Mrs        57269\n",
       "Ms         38955\n",
       "Mr         10648\n",
       "Teacher     2360\n",
       "Dr            13\n",
       "Name: teacher_prefix, dtype: int64"
      ]
     },
     "execution_count": 7,
     "metadata": {},
     "output_type": "execute_result"
    }
   ],
   "source": [
    "data['teacher_prefix'].value_counts()"
   ]
  },
  {
   "cell_type": "code",
   "execution_count": 8,
   "id": "0e77172f",
   "metadata": {},
   "outputs": [
    {
     "data": {
      "text/plain": [
       "(109245, 17)"
      ]
     },
     "execution_count": 8,
     "metadata": {},
     "output_type": "execute_result"
    }
   ],
   "source": [
    "data.shape"
   ]
  },
  {
   "cell_type": "markdown",
   "id": "20d8e761",
   "metadata": {},
   "source": [
    "Preprocessing on Project Subject Categories"
   ]
  },
  {
   "cell_type": "code",
   "execution_count": 9,
   "id": "32cdd490",
   "metadata": {},
   "outputs": [],
   "source": [
    "\"\"\"preprocessng Project Subject categories and removing special characters\"\"\"\n",
    "# project_subject_category includes comma separeted values and '&' values, replacing '&' with '_' and removing 'The' and trailing spaces    \n",
    "\n",
    "categories = data['project_subject_categories'].values\n",
    "cat_list = []\n",
    "for i in categories:\n",
    "    temp = \"\"\n",
    "    # consider we have text like this \"Math & Science, Warmth, Care & Hunger\"\n",
    "    for j in i.split(','): # it will split it in three parts [\"Math & Science\", \"Warmth\", \"Care & Hunger\"]\n",
    "        if 'The' in j.split(): # this will split each of the catogory based on space \"Math & Science\"=> \"Math\",\"&\", \"Science\"\n",
    "            j=j.replace('The','') # if we have the words \"The\" we are going to replace it with ''(i.e removing 'The')\n",
    "        j = j.replace(' ','') # we are placeing all the ' '(space) with ''(empty) ex:\"Math & Science\"=>\"Math&Science\"\n",
    "        temp+=j.strip()+\" \" #\" abc \".strip() will return \"abc\", remove the trailing spaces\n",
    "        temp = temp.replace('&','_') # we are replacing the & value into \n",
    "    cat_list.append(temp.strip())\n",
    "\n",
    "\n",
    "# refferred from the Reference_EDA.ipynb"
   ]
  },
  {
   "cell_type": "code",
   "execution_count": 10,
   "id": "48b72660",
   "metadata": {},
   "outputs": [
    {
     "data": {
      "text/html": [
       "<div>\n",
       "<style scoped>\n",
       "    .dataframe tbody tr th:only-of-type {\n",
       "        vertical-align: middle;\n",
       "    }\n",
       "\n",
       "    .dataframe tbody tr th {\n",
       "        vertical-align: top;\n",
       "    }\n",
       "\n",
       "    .dataframe thead th {\n",
       "        text-align: right;\n",
       "    }\n",
       "</style>\n",
       "<table border=\"1\" class=\"dataframe\">\n",
       "  <thead>\n",
       "    <tr style=\"text-align: right;\">\n",
       "      <th></th>\n",
       "      <th>Unnamed: 0</th>\n",
       "      <th>id</th>\n",
       "      <th>teacher_id</th>\n",
       "      <th>teacher_prefix</th>\n",
       "      <th>school_state</th>\n",
       "      <th>project_submitted_datetime</th>\n",
       "      <th>project_grade_category</th>\n",
       "      <th>project_subject_categories</th>\n",
       "      <th>project_subject_subcategories</th>\n",
       "      <th>project_title</th>\n",
       "      <th>project_essay_1</th>\n",
       "      <th>project_essay_2</th>\n",
       "      <th>project_essay_3</th>\n",
       "      <th>project_essay_4</th>\n",
       "      <th>project_resource_summary</th>\n",
       "      <th>teacher_number_of_previously_posted_projects</th>\n",
       "      <th>project_is_approved</th>\n",
       "      <th>clean_categories</th>\n",
       "    </tr>\n",
       "  </thead>\n",
       "  <tbody>\n",
       "    <tr>\n",
       "      <th>0</th>\n",
       "      <td>160221</td>\n",
       "      <td>p253737</td>\n",
       "      <td>c90749f5d961ff158d4b4d1e7dc665fc</td>\n",
       "      <td>Mrs</td>\n",
       "      <td>IN</td>\n",
       "      <td>2016-12-05 13:43:57</td>\n",
       "      <td>Grades PreK-2</td>\n",
       "      <td>Literacy &amp; Language</td>\n",
       "      <td>ESL, Literacy</td>\n",
       "      <td>Educational Support for English Learners at Home</td>\n",
       "      <td>My students are English learners that are work...</td>\n",
       "      <td>\\\"The limits of your language are the limits o...</td>\n",
       "      <td>NaN</td>\n",
       "      <td>NaN</td>\n",
       "      <td>My students need opportunities to practice beg...</td>\n",
       "      <td>0</td>\n",
       "      <td>0</td>\n",
       "      <td>Literacy_Language</td>\n",
       "    </tr>\n",
       "    <tr>\n",
       "      <th>1</th>\n",
       "      <td>140945</td>\n",
       "      <td>p258326</td>\n",
       "      <td>897464ce9ddc600bced1151f324dd63a</td>\n",
       "      <td>Mr</td>\n",
       "      <td>FL</td>\n",
       "      <td>2016-10-25 09:22:10</td>\n",
       "      <td>Grades 6-8</td>\n",
       "      <td>History &amp; Civics, Health &amp; Sports</td>\n",
       "      <td>Civics &amp; Government, Team Sports</td>\n",
       "      <td>Wanted: Projector for Hungry Learners</td>\n",
       "      <td>Our students arrive to our school eager to lea...</td>\n",
       "      <td>The projector we need for our school is very c...</td>\n",
       "      <td>NaN</td>\n",
       "      <td>NaN</td>\n",
       "      <td>My students need a projector to help with view...</td>\n",
       "      <td>7</td>\n",
       "      <td>1</td>\n",
       "      <td>History_Civics Health_Sports</td>\n",
       "    </tr>\n",
       "    <tr>\n",
       "      <th>2</th>\n",
       "      <td>21895</td>\n",
       "      <td>p182444</td>\n",
       "      <td>3465aaf82da834c0582ebd0ef8040ca0</td>\n",
       "      <td>Ms</td>\n",
       "      <td>AZ</td>\n",
       "      <td>2016-08-31 12:03:56</td>\n",
       "      <td>Grades 6-8</td>\n",
       "      <td>Health &amp; Sports</td>\n",
       "      <td>Health &amp; Wellness, Team Sports</td>\n",
       "      <td>Soccer Equipment for AWESOME Middle School Stu...</td>\n",
       "      <td>\\r\\n\\\"True champions aren't always the ones th...</td>\n",
       "      <td>The students on the campus come to school know...</td>\n",
       "      <td>NaN</td>\n",
       "      <td>NaN</td>\n",
       "      <td>My students need shine guards, athletic socks,...</td>\n",
       "      <td>1</td>\n",
       "      <td>0</td>\n",
       "      <td>Health_Sports</td>\n",
       "    </tr>\n",
       "    <tr>\n",
       "      <th>3</th>\n",
       "      <td>45</td>\n",
       "      <td>p246581</td>\n",
       "      <td>f3cb9bffbba169bef1a77b243e620b60</td>\n",
       "      <td>Mrs</td>\n",
       "      <td>KY</td>\n",
       "      <td>2016-10-06 21:16:17</td>\n",
       "      <td>Grades PreK-2</td>\n",
       "      <td>Literacy &amp; Language, Math &amp; Science</td>\n",
       "      <td>Literacy, Mathematics</td>\n",
       "      <td>Techie Kindergarteners</td>\n",
       "      <td>I work at a unique school filled with both ESL...</td>\n",
       "      <td>My students live in high poverty conditions wi...</td>\n",
       "      <td>NaN</td>\n",
       "      <td>NaN</td>\n",
       "      <td>My students need to engage in Reading and Math...</td>\n",
       "      <td>4</td>\n",
       "      <td>1</td>\n",
       "      <td>Literacy_Language Math_Science</td>\n",
       "    </tr>\n",
       "    <tr>\n",
       "      <th>4</th>\n",
       "      <td>172407</td>\n",
       "      <td>p104768</td>\n",
       "      <td>be1f7507a41f8479dc06f047086a39ec</td>\n",
       "      <td>Mrs</td>\n",
       "      <td>TX</td>\n",
       "      <td>2016-07-11 01:10:09</td>\n",
       "      <td>Grades PreK-2</td>\n",
       "      <td>Math &amp; Science</td>\n",
       "      <td>Mathematics</td>\n",
       "      <td>Interactive Math Tools</td>\n",
       "      <td>Our second grade classroom next year will be m...</td>\n",
       "      <td>For many students, math is a subject that does...</td>\n",
       "      <td>NaN</td>\n",
       "      <td>NaN</td>\n",
       "      <td>My students need hands on practice in mathemat...</td>\n",
       "      <td>1</td>\n",
       "      <td>1</td>\n",
       "      <td>Math_Science</td>\n",
       "    </tr>\n",
       "  </tbody>\n",
       "</table>\n",
       "</div>"
      ],
      "text/plain": [
       "   Unnamed: 0       id                        teacher_id teacher_prefix  \\\n",
       "0      160221  p253737  c90749f5d961ff158d4b4d1e7dc665fc            Mrs   \n",
       "1      140945  p258326  897464ce9ddc600bced1151f324dd63a             Mr   \n",
       "2       21895  p182444  3465aaf82da834c0582ebd0ef8040ca0             Ms   \n",
       "3          45  p246581  f3cb9bffbba169bef1a77b243e620b60            Mrs   \n",
       "4      172407  p104768  be1f7507a41f8479dc06f047086a39ec            Mrs   \n",
       "\n",
       "  school_state project_submitted_datetime project_grade_category  \\\n",
       "0           IN        2016-12-05 13:43:57          Grades PreK-2   \n",
       "1           FL        2016-10-25 09:22:10             Grades 6-8   \n",
       "2           AZ        2016-08-31 12:03:56             Grades 6-8   \n",
       "3           KY        2016-10-06 21:16:17          Grades PreK-2   \n",
       "4           TX        2016-07-11 01:10:09          Grades PreK-2   \n",
       "\n",
       "            project_subject_categories     project_subject_subcategories  \\\n",
       "0                  Literacy & Language                     ESL, Literacy   \n",
       "1    History & Civics, Health & Sports  Civics & Government, Team Sports   \n",
       "2                      Health & Sports    Health & Wellness, Team Sports   \n",
       "3  Literacy & Language, Math & Science             Literacy, Mathematics   \n",
       "4                       Math & Science                       Mathematics   \n",
       "\n",
       "                                       project_title  \\\n",
       "0   Educational Support for English Learners at Home   \n",
       "1              Wanted: Projector for Hungry Learners   \n",
       "2  Soccer Equipment for AWESOME Middle School Stu...   \n",
       "3                             Techie Kindergarteners   \n",
       "4                             Interactive Math Tools   \n",
       "\n",
       "                                     project_essay_1  \\\n",
       "0  My students are English learners that are work...   \n",
       "1  Our students arrive to our school eager to lea...   \n",
       "2  \\r\\n\\\"True champions aren't always the ones th...   \n",
       "3  I work at a unique school filled with both ESL...   \n",
       "4  Our second grade classroom next year will be m...   \n",
       "\n",
       "                                     project_essay_2 project_essay_3  \\\n",
       "0  \\\"The limits of your language are the limits o...             NaN   \n",
       "1  The projector we need for our school is very c...             NaN   \n",
       "2  The students on the campus come to school know...             NaN   \n",
       "3  My students live in high poverty conditions wi...             NaN   \n",
       "4  For many students, math is a subject that does...             NaN   \n",
       "\n",
       "  project_essay_4                           project_resource_summary  \\\n",
       "0             NaN  My students need opportunities to practice beg...   \n",
       "1             NaN  My students need a projector to help with view...   \n",
       "2             NaN  My students need shine guards, athletic socks,...   \n",
       "3             NaN  My students need to engage in Reading and Math...   \n",
       "4             NaN  My students need hands on practice in mathemat...   \n",
       "\n",
       "   teacher_number_of_previously_posted_projects  project_is_approved  \\\n",
       "0                                             0                    0   \n",
       "1                                             7                    1   \n",
       "2                                             1                    0   \n",
       "3                                             4                    1   \n",
       "4                                             1                    1   \n",
       "\n",
       "                 clean_categories  \n",
       "0               Literacy_Language  \n",
       "1    History_Civics Health_Sports  \n",
       "2                   Health_Sports  \n",
       "3  Literacy_Language Math_Science  \n",
       "4                    Math_Science  "
      ]
     },
     "execution_count": 10,
     "metadata": {},
     "output_type": "execute_result"
    }
   ],
   "source": [
    "data['clean_categories'] = cat_list\n",
    "data.head()"
   ]
  },
  {
   "cell_type": "code",
   "execution_count": 11,
   "id": "085ddf15",
   "metadata": {},
   "outputs": [],
   "source": [
    "# dropping 'project_subject_categories' column\n",
    "data.drop(['project_subject_categories'], axis=1, inplace=True)"
   ]
  },
  {
   "cell_type": "markdown",
   "id": "bdc6276c",
   "metadata": {},
   "source": [
    "Preprocessing Project Subject Subcategories"
   ]
  },
  {
   "cell_type": "code",
   "execution_count": 12,
   "id": "11cbd6c4",
   "metadata": {},
   "outputs": [],
   "source": [
    "sub_categories = data['project_subject_subcategories'].values\n",
    "sub_cat_list = []\n",
    "for i in sub_categories:\n",
    "    temp = \"\"\n",
    "    for j in i.split(','):\n",
    "        if 'The' in j.split():\n",
    "            j=j.replace('The','')\n",
    "        j = j.replace(' ','')\n",
    "        temp+=j.strip()+\" \"\n",
    "        temp = temp.replace('&','_')\n",
    "    sub_cat_list.append(temp.strip())"
   ]
  },
  {
   "cell_type": "code",
   "execution_count": 13,
   "id": "776d3cec",
   "metadata": {},
   "outputs": [
    {
     "data": {
      "text/html": [
       "<div>\n",
       "<style scoped>\n",
       "    .dataframe tbody tr th:only-of-type {\n",
       "        vertical-align: middle;\n",
       "    }\n",
       "\n",
       "    .dataframe tbody tr th {\n",
       "        vertical-align: top;\n",
       "    }\n",
       "\n",
       "    .dataframe thead th {\n",
       "        text-align: right;\n",
       "    }\n",
       "</style>\n",
       "<table border=\"1\" class=\"dataframe\">\n",
       "  <thead>\n",
       "    <tr style=\"text-align: right;\">\n",
       "      <th></th>\n",
       "      <th>Unnamed: 0</th>\n",
       "      <th>id</th>\n",
       "      <th>teacher_id</th>\n",
       "      <th>teacher_prefix</th>\n",
       "      <th>school_state</th>\n",
       "      <th>project_submitted_datetime</th>\n",
       "      <th>project_grade_category</th>\n",
       "      <th>project_title</th>\n",
       "      <th>project_essay_1</th>\n",
       "      <th>project_essay_2</th>\n",
       "      <th>project_essay_3</th>\n",
       "      <th>project_essay_4</th>\n",
       "      <th>project_resource_summary</th>\n",
       "      <th>teacher_number_of_previously_posted_projects</th>\n",
       "      <th>project_is_approved</th>\n",
       "      <th>clean_categories</th>\n",
       "      <th>clean_subcategories</th>\n",
       "    </tr>\n",
       "  </thead>\n",
       "  <tbody>\n",
       "    <tr>\n",
       "      <th>0</th>\n",
       "      <td>160221</td>\n",
       "      <td>p253737</td>\n",
       "      <td>c90749f5d961ff158d4b4d1e7dc665fc</td>\n",
       "      <td>Mrs</td>\n",
       "      <td>IN</td>\n",
       "      <td>2016-12-05 13:43:57</td>\n",
       "      <td>Grades PreK-2</td>\n",
       "      <td>Educational Support for English Learners at Home</td>\n",
       "      <td>My students are English learners that are work...</td>\n",
       "      <td>\\\"The limits of your language are the limits o...</td>\n",
       "      <td>NaN</td>\n",
       "      <td>NaN</td>\n",
       "      <td>My students need opportunities to practice beg...</td>\n",
       "      <td>0</td>\n",
       "      <td>0</td>\n",
       "      <td>Literacy_Language</td>\n",
       "      <td>ESL Literacy</td>\n",
       "    </tr>\n",
       "    <tr>\n",
       "      <th>1</th>\n",
       "      <td>140945</td>\n",
       "      <td>p258326</td>\n",
       "      <td>897464ce9ddc600bced1151f324dd63a</td>\n",
       "      <td>Mr</td>\n",
       "      <td>FL</td>\n",
       "      <td>2016-10-25 09:22:10</td>\n",
       "      <td>Grades 6-8</td>\n",
       "      <td>Wanted: Projector for Hungry Learners</td>\n",
       "      <td>Our students arrive to our school eager to lea...</td>\n",
       "      <td>The projector we need for our school is very c...</td>\n",
       "      <td>NaN</td>\n",
       "      <td>NaN</td>\n",
       "      <td>My students need a projector to help with view...</td>\n",
       "      <td>7</td>\n",
       "      <td>1</td>\n",
       "      <td>History_Civics Health_Sports</td>\n",
       "      <td>Civics_Government TeamSports</td>\n",
       "    </tr>\n",
       "    <tr>\n",
       "      <th>2</th>\n",
       "      <td>21895</td>\n",
       "      <td>p182444</td>\n",
       "      <td>3465aaf82da834c0582ebd0ef8040ca0</td>\n",
       "      <td>Ms</td>\n",
       "      <td>AZ</td>\n",
       "      <td>2016-08-31 12:03:56</td>\n",
       "      <td>Grades 6-8</td>\n",
       "      <td>Soccer Equipment for AWESOME Middle School Stu...</td>\n",
       "      <td>\\r\\n\\\"True champions aren't always the ones th...</td>\n",
       "      <td>The students on the campus come to school know...</td>\n",
       "      <td>NaN</td>\n",
       "      <td>NaN</td>\n",
       "      <td>My students need shine guards, athletic socks,...</td>\n",
       "      <td>1</td>\n",
       "      <td>0</td>\n",
       "      <td>Health_Sports</td>\n",
       "      <td>Health_Wellness TeamSports</td>\n",
       "    </tr>\n",
       "    <tr>\n",
       "      <th>3</th>\n",
       "      <td>45</td>\n",
       "      <td>p246581</td>\n",
       "      <td>f3cb9bffbba169bef1a77b243e620b60</td>\n",
       "      <td>Mrs</td>\n",
       "      <td>KY</td>\n",
       "      <td>2016-10-06 21:16:17</td>\n",
       "      <td>Grades PreK-2</td>\n",
       "      <td>Techie Kindergarteners</td>\n",
       "      <td>I work at a unique school filled with both ESL...</td>\n",
       "      <td>My students live in high poverty conditions wi...</td>\n",
       "      <td>NaN</td>\n",
       "      <td>NaN</td>\n",
       "      <td>My students need to engage in Reading and Math...</td>\n",
       "      <td>4</td>\n",
       "      <td>1</td>\n",
       "      <td>Literacy_Language Math_Science</td>\n",
       "      <td>Literacy Mathematics</td>\n",
       "    </tr>\n",
       "    <tr>\n",
       "      <th>4</th>\n",
       "      <td>172407</td>\n",
       "      <td>p104768</td>\n",
       "      <td>be1f7507a41f8479dc06f047086a39ec</td>\n",
       "      <td>Mrs</td>\n",
       "      <td>TX</td>\n",
       "      <td>2016-07-11 01:10:09</td>\n",
       "      <td>Grades PreK-2</td>\n",
       "      <td>Interactive Math Tools</td>\n",
       "      <td>Our second grade classroom next year will be m...</td>\n",
       "      <td>For many students, math is a subject that does...</td>\n",
       "      <td>NaN</td>\n",
       "      <td>NaN</td>\n",
       "      <td>My students need hands on practice in mathemat...</td>\n",
       "      <td>1</td>\n",
       "      <td>1</td>\n",
       "      <td>Math_Science</td>\n",
       "      <td>Mathematics</td>\n",
       "    </tr>\n",
       "  </tbody>\n",
       "</table>\n",
       "</div>"
      ],
      "text/plain": [
       "   Unnamed: 0       id                        teacher_id teacher_prefix  \\\n",
       "0      160221  p253737  c90749f5d961ff158d4b4d1e7dc665fc            Mrs   \n",
       "1      140945  p258326  897464ce9ddc600bced1151f324dd63a             Mr   \n",
       "2       21895  p182444  3465aaf82da834c0582ebd0ef8040ca0             Ms   \n",
       "3          45  p246581  f3cb9bffbba169bef1a77b243e620b60            Mrs   \n",
       "4      172407  p104768  be1f7507a41f8479dc06f047086a39ec            Mrs   \n",
       "\n",
       "  school_state project_submitted_datetime project_grade_category  \\\n",
       "0           IN        2016-12-05 13:43:57          Grades PreK-2   \n",
       "1           FL        2016-10-25 09:22:10             Grades 6-8   \n",
       "2           AZ        2016-08-31 12:03:56             Grades 6-8   \n",
       "3           KY        2016-10-06 21:16:17          Grades PreK-2   \n",
       "4           TX        2016-07-11 01:10:09          Grades PreK-2   \n",
       "\n",
       "                                       project_title  \\\n",
       "0   Educational Support for English Learners at Home   \n",
       "1              Wanted: Projector for Hungry Learners   \n",
       "2  Soccer Equipment for AWESOME Middle School Stu...   \n",
       "3                             Techie Kindergarteners   \n",
       "4                             Interactive Math Tools   \n",
       "\n",
       "                                     project_essay_1  \\\n",
       "0  My students are English learners that are work...   \n",
       "1  Our students arrive to our school eager to lea...   \n",
       "2  \\r\\n\\\"True champions aren't always the ones th...   \n",
       "3  I work at a unique school filled with both ESL...   \n",
       "4  Our second grade classroom next year will be m...   \n",
       "\n",
       "                                     project_essay_2 project_essay_3  \\\n",
       "0  \\\"The limits of your language are the limits o...             NaN   \n",
       "1  The projector we need for our school is very c...             NaN   \n",
       "2  The students on the campus come to school know...             NaN   \n",
       "3  My students live in high poverty conditions wi...             NaN   \n",
       "4  For many students, math is a subject that does...             NaN   \n",
       "\n",
       "  project_essay_4                           project_resource_summary  \\\n",
       "0             NaN  My students need opportunities to practice beg...   \n",
       "1             NaN  My students need a projector to help with view...   \n",
       "2             NaN  My students need shine guards, athletic socks,...   \n",
       "3             NaN  My students need to engage in Reading and Math...   \n",
       "4             NaN  My students need hands on practice in mathemat...   \n",
       "\n",
       "   teacher_number_of_previously_posted_projects  project_is_approved  \\\n",
       "0                                             0                    0   \n",
       "1                                             7                    1   \n",
       "2                                             1                    0   \n",
       "3                                             4                    1   \n",
       "4                                             1                    1   \n",
       "\n",
       "                 clean_categories           clean_subcategories  \n",
       "0               Literacy_Language                  ESL Literacy  \n",
       "1    History_Civics Health_Sports  Civics_Government TeamSports  \n",
       "2                   Health_Sports    Health_Wellness TeamSports  \n",
       "3  Literacy_Language Math_Science          Literacy Mathematics  \n",
       "4                    Math_Science                   Mathematics  "
      ]
     },
     "execution_count": 13,
     "metadata": {},
     "output_type": "execute_result"
    }
   ],
   "source": [
    "data['clean_subcategories'] = sub_cat_list\n",
    "data.drop(['project_subject_subcategories'], axis=1, inplace=True)\n",
    "data.head()"
   ]
  },
  {
   "cell_type": "markdown",
   "id": "7a45fbff",
   "metadata": {},
   "source": [
    "Preprocessing project Grade categories"
   ]
  },
  {
   "cell_type": "code",
   "execution_count": 14,
   "id": "e0844a38",
   "metadata": {},
   "outputs": [],
   "source": [
    "# remove the word 'Grade' from the project_grade_category column and replace '-' with 'to'\n",
    "\n",
    "grade = data['project_grade_category'].values\n",
    "\n",
    "my_list = []\n",
    "for i in grade:    \n",
    "    if 'Grades' in i:\n",
    "        i = i.replace('Grades ','')\n",
    "    if '-' in i:\n",
    "        i = i.replace('-','to')\n",
    "    my_list.append(i)\n",
    "\n",
    "\n",
    "data['clean_grade'] = my_list"
   ]
  },
  {
   "cell_type": "code",
   "execution_count": 15,
   "id": "dc8f2c51",
   "metadata": {},
   "outputs": [
    {
     "data": {
      "text/plain": [
       "0         PreKto2\n",
       "1            6to8\n",
       "2            6to8\n",
       "3         PreKto2\n",
       "4         PreKto2\n",
       "           ...   \n",
       "109243    PreKto2\n",
       "109244    PreKto2\n",
       "109245    PreKto2\n",
       "109246       3to5\n",
       "109247       6to8\n",
       "Name: clean_grade, Length: 109245, dtype: object"
      ]
     },
     "execution_count": 15,
     "metadata": {},
     "output_type": "execute_result"
    }
   ],
   "source": [
    "data['clean_grade']"
   ]
  },
  {
   "cell_type": "markdown",
   "id": "be99d115",
   "metadata": {},
   "source": [
    "Preprocessing project essays categories\n"
   ]
  },
  {
   "cell_type": "code",
   "execution_count": 16,
   "id": "6348af0c",
   "metadata": {},
   "outputs": [],
   "source": [
    "# merging project essays into one column; this takes care of the Nan values...\n",
    "data['essay'] = data['project_essay_1'].map(str) + data['project_essay_2'].map(str) + data['project_essay_3'].map(str) + data['project_essay_4'].map(str)"
   ]
  },
  {
   "cell_type": "code",
   "execution_count": 17,
   "id": "8c282161",
   "metadata": {},
   "outputs": [
    {
     "data": {
      "text/plain": [
       "0         My students are English learners that are work...\n",
       "1         Our students arrive to our school eager to lea...\n",
       "2         \\r\\n\\\"True champions aren't always the ones th...\n",
       "3         I work at a unique school filled with both ESL...\n",
       "4         Our second grade classroom next year will be m...\n",
       "                                ...                        \n",
       "109243    Welcome to Mr. Ramos's 2nd grade classroom! We...\n",
       "109244    Every morning, we start our day with our core ...\n",
       "109245    This is a great group of sharing and caring st...\n",
       "109246    Our students live in a small rural community. ...\n",
       "109247    When was the last time that you used math? Pro...\n",
       "Name: essay, Length: 109245, dtype: object"
      ]
     },
     "execution_count": 17,
     "metadata": {},
     "output_type": "execute_result"
    }
   ],
   "source": [
    "data['essay']"
   ]
  },
  {
   "cell_type": "code",
   "execution_count": 18,
   "id": "813d6117",
   "metadata": {},
   "outputs": [],
   "source": [
    "# dropping the project_essay_1,2,3,4 columns\n",
    "data.drop(['project_essay_1','project_essay_2','project_essay_3','project_essay_4'], axis=1, inplace=True)"
   ]
  },
  {
   "cell_type": "code",
   "execution_count": 19,
   "id": "55c89b88",
   "metadata": {},
   "outputs": [
    {
     "name": "stdout",
     "output_type": "stream",
     "text": [
      "Hey I am Yann, how are you and how is it going ? Something could be done\n"
     ]
    }
   ],
   "source": [
    "# reffered from \n",
    "# https://stackoverflow.com/questions/19790188/expanding-english-language-contractions-in-python/47091490#47091490\n",
    "\n",
    "import re\n",
    "\n",
    "def decontracted(phrase):\n",
    "    # specific\n",
    "    phrase = re.sub(r\"won\\'t\", \"will not\", phrase)\n",
    "    phrase = re.sub(r\"can\\'t\", \"can not\", phrase)\n",
    "\n",
    "    # general\n",
    "    phrase = re.sub(r\"n\\'t\", \" not\", phrase)\n",
    "    phrase = re.sub(r\"\\'re\", \" are\", phrase)\n",
    "    phrase = re.sub(r\"\\'s\", \" is\", phrase)\n",
    "    phrase = re.sub(r\"\\'d\", \" would\", phrase)\n",
    "    phrase = re.sub(r\"\\'ll\", \" will\", phrase)\n",
    "    phrase = re.sub(r\"\\'t\", \" not\", phrase)\n",
    "    phrase = re.sub(r\"\\'ve\", \" have\", phrase)\n",
    "    phrase = re.sub(r\"\\'m\", \" am\", phrase)\n",
    "    return phrase\n",
    "\n",
    "\n",
    "test = \"Hey I'm Yann, how're you and how's it going ? Something could be done\"\n",
    "print(decontracted(test))"
   ]
  },
  {
   "cell_type": "code",
   "execution_count": 20,
   "id": "1af30232",
   "metadata": {},
   "outputs": [],
   "source": [
    "# removing stopwords from the essay column\n",
    "\n",
    "stopwords = [\"i\", \"me\", \"my\", \"myself\", \"we\", \"our\", \"ours\", \"ourselves\", \"you\", \"your\", \"yours\", \"yourself\", \"yourselves\", \"he\", \"him\", \"his\", \"himself\", \"she\", \"her\", \"hers\", \"herself\", \"it\", \"its\", \"itself\", \"they\", \"them\", \"their\", \"theirs\", \"themselves\", \"what\", \"which\", \"who\", \"whom\", \"this\", \"that\", \"these\", \"those\", \"am\", \"is\", \"are\", \"was\", \"were\", \"be\", \"been\", \"being\", \"have\", \"has\", \"had\", \"having\", \"do\", \"does\", \"did\", \"doing\", \"a\", \"an\", \"the\", \"and\", \"but\", \"if\", \"or\", \"because\", \"as\", \"until\", \"while\", \"of\", \"at\", \"by\", \"for\", \"with\", \"about\", \"against\", \"between\", \"into\", \"through\", \"during\", \"before\", \"after\", \"above\", \"below\", \"to\", \"from\", \"up\", \"down\", \"in\", \"out\", \"on\", \"off\", \"over\", \"under\", \"again\", \"further\", \"then\", \"once\", \"here\", \"there\", \"when\", \"where\", \"why\", \"how\", \"all\", \"any\", \"both\", \"each\", \"few\", \"more\", \"most\", \"other\", \"some\", \"such\", \"no\", \"nor\", \"not\", \"only\", \"own\", \"same\", \"so\", \"than\", \"too\", \"very\", \"s\", \"t\", \"can\", \"will\", \"just\", \"don\", \"should\", \"now\"]\n"
   ]
  },
  {
   "cell_type": "code",
   "execution_count": 21,
   "id": "60cbcae6",
   "metadata": {},
   "outputs": [
    {
     "name": "stdout",
     "output_type": "stream",
     "text": [
      "My students are English learners that are working on English as their second or third languages. We are a melting pot of refugees, immigrants, and native-born Americans bringing the gift of language to our school. \\r\\n\\r\\n We have over 24 languages represented in our English Learner program with students at every level of mastery.  We also have over 40 countries represented with the families within our school.  Each student brings a wealth of knowledge and experiences to us that open our eyes to new cultures, beliefs, and respect.\\\"The limits of your language are the limits of your world.\\\"-Ludwig Wittgenstein  Our English learner's have a strong support system at home that begs for more resources.  Many times our parents are learning to read and speak English along side of their children.  Sometimes this creates barriers for parents to be able to help their child learn phonetics, letter recognition, and other reading skills.\\r\\n\\r\\nBy providing these dvd's and players, students are able to continue their mastery of the English language even if no one at home is able to assist.  All families with students within the Level 1 proficiency status, will be a offered to be a part of this program.  These educational videos will be specially chosen by the English Learner Teacher and will be sent home regularly to watch.  The videos are to help the child develop early reading skills.\\r\\n\\r\\nParents that do not have access to a dvd player will have the opportunity to check out a dvd player to use for the year.  The plan is to use these videos and educational dvd's for the years to come for other EL students.\\r\\nnannan\n"
     ]
    }
   ],
   "source": [
    "print(data['essay'].values[0])"
   ]
  },
  {
   "cell_type": "code",
   "execution_count": 22,
   "id": "bff1814c",
   "metadata": {},
   "outputs": [
    {
     "name": "stderr",
     "output_type": "stream",
     "text": [
      "100%|██████████| 109245/109245 [00:50<00:00, 2155.09it/s]\n"
     ]
    }
   ],
   "source": [
    "# Combining all the above stundents \n",
    "from tqdm import tqdm\n",
    "preprocessed_essays = []\n",
    "# tqdm is for printing the status bar\n",
    "for sentance in tqdm(data['essay'].values):\n",
    "    sent = decontracted(sentance)\n",
    "    sent = sent.replace('\\\\r', ' ')\n",
    "    sent = sent.replace('\\\\n', ' ')\n",
    "    sent = sent.replace('\\\\\"', ' ')\n",
    "    sent = re.sub('[^A-Za-z0-9]+', ' ', sent)\n",
    "    # https://gist.github.com/sebleier/554280\n",
    "    sent = ' '.join(e for e in sent.split() if e.lower() not in stopwords)\n",
    "    preprocessed_essays.append(sent.lower().strip())\n"
   ]
  },
  {
   "cell_type": "code",
   "execution_count": 23,
   "id": "5834e0f7",
   "metadata": {},
   "outputs": [
    {
     "name": "stdout",
     "output_type": "stream",
     "text": [
      "printing some random reviews\n",
      "9 95 students free reduced lunch homeless despite come school eagerness learn students inquisitive eager learners embrace challenge great books resources every day many afforded opportunity engage big colorful pages book regular basis home travel public library duty teacher provide student opportunity succeed every aspect life reading fundamental students read books boosting comprehension skills books used read alouds partner reading independent reading engage reading build love reading reading pure enjoyment introduced new authors well old favorites want students ready 21st century know pleasure holding good hard back book hand nothing like good book read students soar reading consideration generous funding contribution help build stamina prepare 3rd grade thank much reading proposal nannan\n"
     ]
    }
   ],
   "source": [
    "print(\"printing some random reviews\")\n",
    "print(9, preprocessed_essays[9])"
   ]
  },
  {
   "cell_type": "code",
   "execution_count": 24,
   "id": "834836bc",
   "metadata": {},
   "outputs": [],
   "source": [
    "# adding the column preprocessed_essays to the dataframe and dropping the original essay column\n",
    "\n",
    "data['preprocessed_essays'] = preprocessed_essays\n",
    "data.drop(['essay'], axis=1, inplace=True)"
   ]
  },
  {
   "cell_type": "markdown",
   "id": "4a93445d",
   "metadata": {},
   "source": [
    "Similarly preprocessing the project_title"
   ]
  },
  {
   "cell_type": "code",
   "execution_count": 25,
   "id": "c0ed5864",
   "metadata": {},
   "outputs": [
    {
     "name": "stderr",
     "output_type": "stream",
     "text": [
      "100%|██████████| 109245/109245 [00:02<00:00, 51089.58it/s]\n"
     ]
    }
   ],
   "source": [
    "preprocessed_titles = []\n",
    "for sentance in tqdm(data['project_title'].values):\n",
    "    sent = decontracted(sentance)\n",
    "    sent = sent.replace('\\\\r', ' ')\n",
    "    sent = sent.replace('\\\\n', ' ')\n",
    "    sent = sent.replace('\\\\\"', ' ')\n",
    "    sent = re.sub('[^A-Za-z0-9]+', ' ', sent)\n",
    "    # https://gist.github.com/sebleier/554280\n",
    "    sent = ' '.join(e for e in sent.split() if e.lower() not in stopwords)\n",
    "    preprocessed_titles.append(sent.lower().strip())"
   ]
  },
  {
   "cell_type": "code",
   "execution_count": 26,
   "id": "0fffa0b3",
   "metadata": {},
   "outputs": [],
   "source": [
    "data['preprocessed_titles'] = preprocessed_titles\n",
    "data.drop(['project_title'], axis=1, inplace=True)"
   ]
  },
  {
   "cell_type": "code",
   "execution_count": 27,
   "id": "9852fc8e",
   "metadata": {},
   "outputs": [
    {
     "data": {
      "text/plain": [
       "Index(['Unnamed: 0', 'id', 'teacher_id', 'teacher_prefix', 'school_state',\n",
       "       'project_submitted_datetime', 'project_grade_category',\n",
       "       'project_resource_summary',\n",
       "       'teacher_number_of_previously_posted_projects', 'project_is_approved',\n",
       "       'clean_categories', 'clean_subcategories', 'clean_grade',\n",
       "       'preprocessed_essays', 'preprocessed_titles'],\n",
       "      dtype='object')"
      ]
     },
     "execution_count": 27,
     "metadata": {},
     "output_type": "execute_result"
    }
   ],
   "source": [
    "data.columns"
   ]
  },
  {
   "cell_type": "code",
   "execution_count": 28,
   "id": "5e2791f7",
   "metadata": {},
   "outputs": [
    {
     "data": {
      "text/plain": [
       "'needs chromebook'"
      ]
     },
     "execution_count": 28,
     "metadata": {},
     "output_type": "execute_result"
    }
   ],
   "source": [
    "data['preprocessed_titles'].values[147]"
   ]
  },
  {
   "cell_type": "markdown",
   "id": "bedf2086",
   "metadata": {},
   "source": [
    "Preprocessing Numerical Values: price"
   ]
  },
  {
   "cell_type": "code",
   "execution_count": 29,
   "id": "06e2a96e",
   "metadata": {},
   "outputs": [
    {
     "data": {
      "text/html": [
       "<div>\n",
       "<style scoped>\n",
       "    .dataframe tbody tr th:only-of-type {\n",
       "        vertical-align: middle;\n",
       "    }\n",
       "\n",
       "    .dataframe tbody tr th {\n",
       "        vertical-align: top;\n",
       "    }\n",
       "\n",
       "    .dataframe thead th {\n",
       "        text-align: right;\n",
       "    }\n",
       "</style>\n",
       "<table border=\"1\" class=\"dataframe\">\n",
       "  <thead>\n",
       "    <tr style=\"text-align: right;\">\n",
       "      <th></th>\n",
       "      <th>id</th>\n",
       "      <th>price</th>\n",
       "      <th>quantity</th>\n",
       "    </tr>\n",
       "  </thead>\n",
       "  <tbody>\n",
       "    <tr>\n",
       "      <th>0</th>\n",
       "      <td>p000001</td>\n",
       "      <td>459.56</td>\n",
       "      <td>7</td>\n",
       "    </tr>\n",
       "    <tr>\n",
       "      <th>1</th>\n",
       "      <td>p000002</td>\n",
       "      <td>515.89</td>\n",
       "      <td>21</td>\n",
       "    </tr>\n",
       "  </tbody>\n",
       "</table>\n",
       "</div>"
      ],
      "text/plain": [
       "        id   price  quantity\n",
       "0  p000001  459.56         7\n",
       "1  p000002  515.89        21"
      ]
     },
     "execution_count": 29,
     "metadata": {},
     "output_type": "execute_result"
    }
   ],
   "source": [
    "# https://stackoverflow.com/questions/22407798/how-to-reset-a-dataframes-indexes-for-all-groups-in-one-step\n",
    "price_data = resource.groupby('id').agg({'price':'sum', 'quantity':'sum'}).reset_index()\n",
    "price_data.head(2)"
   ]
  },
  {
   "cell_type": "code",
   "execution_count": 30,
   "id": "3388d198",
   "metadata": {},
   "outputs": [],
   "source": [
    "# joining the two dataframes \n",
    "data = pd.merge(data, price_data, on='id', how='left')\n"
   ]
  },
  {
   "cell_type": "code",
   "execution_count": 31,
   "id": "f95b2dbd",
   "metadata": {},
   "outputs": [
    {
     "data": {
      "text/plain": [
       "(109245, 17)"
      ]
     },
     "execution_count": 31,
     "metadata": {},
     "output_type": "execute_result"
    }
   ],
   "source": [
    "data.shape"
   ]
  },
  {
   "cell_type": "code",
   "execution_count": 32,
   "id": "5ef2d7f7",
   "metadata": {},
   "outputs": [
    {
     "data": {
      "text/plain": [
       "Index(['Unnamed: 0', 'id', 'teacher_id', 'teacher_prefix', 'school_state',\n",
       "       'project_submitted_datetime', 'project_grade_category',\n",
       "       'project_resource_summary',\n",
       "       'teacher_number_of_previously_posted_projects', 'project_is_approved',\n",
       "       'clean_categories', 'clean_subcategories', 'clean_grade',\n",
       "       'preprocessed_essays', 'preprocessed_titles', 'price', 'quantity'],\n",
       "      dtype='object')"
      ]
     },
     "execution_count": 32,
     "metadata": {},
     "output_type": "execute_result"
    }
   ],
   "source": [
    "data.columns"
   ]
  },
  {
   "cell_type": "markdown",
   "id": "bb1d4fca",
   "metadata": {},
   "source": [
    "Understanding the data"
   ]
  },
  {
   "cell_type": "code",
   "execution_count": 33,
   "id": "eb31f6b3",
   "metadata": {},
   "outputs": [
    {
     "name": "stdout",
     "output_type": "stream",
     "text": [
      "Number of projects that are approved for funding:  92703 -> 84.85788823287108 %\n",
      "Number of projects that are not approved for funding:  16542 -> 15.14211176712893 %\n"
     ]
    }
   ],
   "source": [
    "# finding how many positive and how many negative class labels are present in the data\n",
    "\n",
    "y_value_counts = data['project_is_approved'].value_counts()\n",
    "print(\"Number of projects that are approved for funding: \", y_value_counts[1], \"->\", y_value_counts[1]/data.shape[0]*100, \"%\")\n",
    "print(\"Number of projects that are not approved for funding: \", y_value_counts[0], \"->\", y_value_counts[0]/data.shape[0]*100, \"%\")\n"
   ]
  },
  {
   "cell_type": "code",
   "execution_count": 34,
   "id": "aef26324",
   "metadata": {},
   "outputs": [],
   "source": [
    "# There's an imbalanced data set, so we need to balance it.\n",
    "\n",
    "# splitting the data into train, test and validation sets\n",
    "\n",
    "from sklearn.model_selection import train_test_split\n",
    "x_train,x_test,y_train,y_test=train_test_split(data,data['project_is_approved'],test_size=0.2,random_state=42,stratify=data[['project_is_approved']])"
   ]
  },
  {
   "cell_type": "code",
   "execution_count": 35,
   "id": "dab42b70",
   "metadata": {},
   "outputs": [],
   "source": [
    "x_train, x_cv, y_train, y_cv = train_test_split(x_train, y_train, test_size=0.25, stratify=y_train)"
   ]
  },
  {
   "cell_type": "code",
   "execution_count": 36,
   "id": "8ecc9ca4",
   "metadata": {},
   "outputs": [
    {
     "name": "stdout",
     "output_type": "stream",
     "text": [
      "(65547, 17)\n",
      "(21849, 17)\n",
      "(65547,)\n",
      "(21849,)\n",
      "(21849, 17)\n",
      "(21849,)\n"
     ]
    }
   ],
   "source": [
    "print(x_train.shape)\n",
    "print(x_test.shape)\n",
    "print(y_train.shape)\n",
    "print(y_test.shape)\n",
    "print(x_cv.shape)\n",
    "print(y_cv.shape)"
   ]
  },
  {
   "cell_type": "code",
   "execution_count": 37,
   "id": "7e9e470e",
   "metadata": {},
   "outputs": [
    {
     "name": "stdout",
     "output_type": "stream",
     "text": [
      "X_TRAIN-------------------------\n",
      "Number of projects that are approved for funding     55622  ->  84.86 %\n",
      "Number of projects that are not approved for funding  9925  ->  15.14 %\n",
      "\n",
      "\n",
      "X_TEST--------------------------\n",
      "Number of projects that are approved for funding     18541  ->  84.86 %\n",
      "Number of projects that are not approved for funding  3308  ->  15.14 %\n",
      "\n",
      "\n",
      "X_CV----------------------------\n",
      "Number of projects that are approved for funding     18540  ->  85 2 %\n",
      "Number of projects that are not approved for funding  3309  ->  15 2 %\n",
      "\n",
      "\n"
     ]
    }
   ],
   "source": [
    "print(\"X_TRAIN-------------------------\")\n",
    "x_train_y_value_counts = x_train['project_is_approved'].value_counts()\n",
    "print(\"Number of projects that are approved for funding    \", x_train_y_value_counts[1],\" -> \",round(x_train_y_value_counts[1]/(x_train_y_value_counts[1]+x_train_y_value_counts[0])*100,2),\"%\")\n",
    "print(\"Number of projects that are not approved for funding \",x_train_y_value_counts[0],\" -> \",round(x_train_y_value_counts[0]/(x_train_y_value_counts[1]+x_train_y_value_counts[0])*100,2),\"%\")\n",
    "print(\"\\n\")\n",
    "print(\"X_TEST--------------------------\")\n",
    "x_test_y_value_counts = x_test['project_is_approved'].value_counts()\n",
    "print(\"Number of projects that are approved for funding    \", x_test_y_value_counts[1],\" -> \",round(x_test_y_value_counts[1]/(x_test_y_value_counts[1]+x_test_y_value_counts[0])*100,2),\"%\")\n",
    "print(\"Number of projects that are not approved for funding \",x_test_y_value_counts[0],\" -> \",round(x_test_y_value_counts[0]/(x_test_y_value_counts[1]+x_test_y_value_counts[0])*100,2),\"%\")\n",
    "print(\"\\n\")\n",
    "print(\"X_CV----------------------------\")\n",
    "x_cv_y_value_counts = x_cv['project_is_approved'].value_counts()\n",
    "print(\"Number of projects that are approved for funding    \", x_cv_y_value_counts[1],\" -> \",round(x_cv_y_value_counts[1]/(x_cv_y_value_counts[1]+x_cv_y_value_counts[0])*100),2,\"%\")\n",
    "print(\"Number of projects that are not approved for funding \",x_cv_y_value_counts[0],\" -> \",round(x_cv_y_value_counts[0]/(x_cv_y_value_counts[1]+x_cv_y_value_counts[0])*100),2,\"%\")\n",
    "print(\"\\n\")"
   ]
  },
  {
   "cell_type": "code",
   "execution_count": 38,
   "id": "ef715cb4",
   "metadata": {},
   "outputs": [
    {
     "name": "stdout",
     "output_type": "stream",
     "text": [
      "No. of points in the Training Dataset :  (65547, 17)\n",
      "No. of points in the majority class 1 :  55622\n",
      "No. of points in the minority class 0 :  9925\n",
      "(55622, 17)\n",
      "(9925, 17)\n",
      "Resampled Minority class details\n",
      "Type:   <class 'pandas.core.frame.DataFrame'>\n",
      "Shape:  (55622, 17)\n",
      "\n",
      "\n",
      "Upsampled Training data\n",
      "Total number of Class labels\n",
      "1    55622\n",
      "0    55622\n",
      "Name: project_is_approved, dtype: int64\n",
      "\n",
      "\n",
      "Old Training IMBALANCED Dataset Shape         :  (65547, 17)\n",
      "New Training BALANCED Upsampled Dataset Shape :  (111244, 17)\n"
     ]
    }
   ],
   "source": [
    "# refferred https://elitedatascience.com/imbalanced-classes\n",
    "\n",
    "from sklearn.utils import resample\n",
    "\n",
    "## splitting x_train in their respective classes\n",
    "x_train_majority=x_train[x_train.project_is_approved==1]\n",
    "x_train_minority=x_train[x_train.project_is_approved==0]\n",
    "\n",
    "print(\"No. of points in the Training Dataset : \", x_train.shape)\n",
    "print(\"No. of points in the majority class 1 : \",len(x_train_majority))\n",
    "print(\"No. of points in the minority class 0 : \",len(x_train_minority))\n",
    "\n",
    "print(x_train_majority.shape)\n",
    "print(x_train_minority.shape)\n",
    "\n",
    "## Resampling with replacement\n",
    "x_train_minority_upsampled=resample(\n",
    "    x_train_minority,\n",
    "    replace=True,\n",
    "\n",
    "    n_samples=len(x_train_majority),\n",
    "    random_state=123)\n",
    "\n",
    "print(\"Resampled Minority class details\")\n",
    "print(\"Type:  \",type(x_train_minority_upsampled))\n",
    "print(\"Shape: \",x_train_minority_upsampled.shape)\n",
    "print(\"\\n\")\n",
    "## Concatinating our Upsampled Minority class with the existing Majority class\n",
    "x_train_upsampled=pd.concat([x_train_majority,x_train_minority_upsampled])\n",
    "\n",
    "print(\"Upsampled Training data\")\n",
    "print(\"Total number of Class labels\")\n",
    "print(x_train_upsampled.project_is_approved.value_counts())\n",
    "print(\"\\n\")\n",
    "print(\"Old Training IMBALANCED Dataset Shape         : \", x_train.shape)\n",
    "print(\"New Training BALANCED Upsampled Dataset Shape : \",x_train_upsampled.shape)\n",
    "\n",
    "x_train_upsampled.to_csv ('x_train_upsampled_csv.csv',index=False)"
   ]
  },
  {
   "cell_type": "code",
   "execution_count": 39,
   "id": "f3f9b3d0",
   "metadata": {},
   "outputs": [
    {
     "name": "stdout",
     "output_type": "stream",
     "text": [
      "(111244, 17)\n"
     ]
    }
   ],
   "source": [
    "print(x_train_upsampled.shape)"
   ]
  },
  {
   "cell_type": "code",
   "execution_count": 40,
   "id": "f421f97b",
   "metadata": {},
   "outputs": [
    {
     "data": {
      "text/plain": [
       "55622"
      ]
     },
     "execution_count": 40,
     "metadata": {},
     "output_type": "execute_result"
    }
   ],
   "source": [
    "len(x_train_upsampled[x_train_upsampled.project_is_approved==1])"
   ]
  },
  {
   "cell_type": "code",
   "execution_count": 41,
   "id": "959229b5",
   "metadata": {},
   "outputs": [
    {
     "data": {
      "text/plain": [
       "55622"
      ]
     },
     "execution_count": 41,
     "metadata": {},
     "output_type": "execute_result"
    }
   ],
   "source": [
    "len(x_train_upsampled[x_train_upsampled.project_is_approved==0])"
   ]
  },
  {
   "cell_type": "markdown",
   "id": "2b0b49e9",
   "metadata": {},
   "source": [
    "Vectorizing Categorical Data"
   ]
  },
  {
   "cell_type": "code",
   "execution_count": 42,
   "id": "ccdc55c7",
   "metadata": {},
   "outputs": [],
   "source": [
    "# clean subject Categories\n",
    "\n",
    "from sklearn.feature_extraction.text import CountVectorizer\n",
    "vectorizer_sub_cat = CountVectorizer(min_df=10,ngram_range=(1,4))\n",
    "vectorizer_sub_cat.fit(x_train['clean_categories'].values)\n",
    "\n",
    "x_train_sub_cat_bow = vectorizer_sub_cat.transform(x_train['clean_categories'].values)\n",
    "x_cv_sub_cat_bow = vectorizer_sub_cat.transform(x_cv['clean_categories'].values)\n",
    "x_test_sub_cat_bow = vectorizer_sub_cat.transform(x_test['clean_categories'].values)\n",
    "\n"
   ]
  },
  {
   "cell_type": "code",
   "execution_count": 43,
   "id": "261907e9",
   "metadata": {},
   "outputs": [
    {
     "name": "stdout",
     "output_type": "stream",
     "text": [
      "['appliedlearning' 'appliedlearning health_sports'\n",
      " 'appliedlearning history_civics' 'appliedlearning literacy_language'\n",
      " 'appliedlearning math_science' 'appliedlearning music_arts'\n",
      " 'appliedlearning specialneeds' 'care_hunger' 'health_sports'\n",
      " 'health_sports appliedlearning' 'health_sports history_civics'\n",
      " 'health_sports literacy_language' 'health_sports math_science'\n",
      " 'health_sports music_arts' 'health_sports specialneeds'\n",
      " 'health_sports warmth' 'health_sports warmth care_hunger'\n",
      " 'history_civics' 'history_civics appliedlearning'\n",
      " 'history_civics literacy_language' 'history_civics math_science'\n",
      " 'history_civics music_arts' 'history_civics specialneeds'\n",
      " 'literacy_language' 'literacy_language appliedlearning'\n",
      " 'literacy_language health_sports' 'literacy_language history_civics'\n",
      " 'literacy_language math_science' 'literacy_language music_arts'\n",
      " 'literacy_language specialneeds' 'math_science'\n",
      " 'math_science appliedlearning' 'math_science health_sports'\n",
      " 'math_science history_civics' 'math_science literacy_language'\n",
      " 'math_science music_arts' 'math_science specialneeds'\n",
      " 'math_science warmth' 'math_science warmth care_hunger' 'music_arts'\n",
      " 'music_arts specialneeds' 'specialneeds' 'specialneeds health_sports'\n",
      " 'specialneeds music_arts' 'specialneeds warmth'\n",
      " 'specialneeds warmth care_hunger' 'warmth' 'warmth care_hunger']\n"
     ]
    }
   ],
   "source": [
    "print(vectorizer_sub_cat.get_feature_names_out())"
   ]
  },
  {
   "cell_type": "code",
   "execution_count": 44,
   "id": "9e77ce28",
   "metadata": {},
   "outputs": [
    {
     "name": "stdout",
     "output_type": "stream",
     "text": [
      "Shape of matrix after BOW vectorization -> categories: x_train:  (65547, 48)\n",
      "Shape of matrix after BOW vectorization -> categories: x_cv   :  (21849, 48)\n",
      "Shape of matrix after BOW vectorization -> categories: x_test :  (21849, 48)\n"
     ]
    }
   ],
   "source": [
    "print(\"Shape of matrix after BOW vectorization -> categories: x_train: \",x_train_sub_cat_bow.shape)\n",
    "print(\"Shape of matrix after BOW vectorization -> categories: x_cv   : \",x_cv_sub_cat_bow.shape)\n",
    "print(\"Shape of matrix after BOW vectorization -> categories: x_test : \",x_test_sub_cat_bow.shape)"
   ]
  },
  {
   "cell_type": "markdown",
   "id": "6df65f03",
   "metadata": {},
   "source": [
    "Vectorizing Categorical data: Clean Subject Sub-Categories"
   ]
  },
  {
   "cell_type": "code",
   "execution_count": 45,
   "id": "08a86d0e",
   "metadata": {},
   "outputs": [],
   "source": [
    "vectorizer_sub_sub_cat = CountVectorizer(min_df=10,ngram_range=(1,4))\n",
    "vectorizer_sub_sub_cat.fit(x_train['clean_subcategories'].values)\n",
    "\n",
    "x_train_sub_sub_cat_bow = vectorizer_sub_sub_cat.transform(x_train['clean_subcategories'].values)\n",
    "x_cv_sub_sub_cat_bow = vectorizer_sub_sub_cat.transform(x_cv['clean_subcategories'].values)\n",
    "x_test_sub_sub_cat_bow = vectorizer_sub_sub_cat.transform(x_test['clean_subcategories'].values)\n"
   ]
  },
  {
   "cell_type": "code",
   "execution_count": 46,
   "id": "7b041898",
   "metadata": {},
   "outputs": [
    {
     "name": "stdout",
     "output_type": "stream",
     "text": [
      "Shape of matrix after BOW vectorization -> categories: x_train:  (65547, 235)\n",
      "Shape of matrix after BOW vectorization -> categories: x_cv   :  (21849, 235)\n",
      "Shape of matrix after BOW vectorization -> categories: x_test :  (21849, 235)\n"
     ]
    }
   ],
   "source": [
    "print(\"Shape of matrix after BOW vectorization -> categories: x_train: \",x_train_sub_sub_cat_bow.shape)\n",
    "print(\"Shape of matrix after BOW vectorization -> categories: x_cv   : \",x_cv_sub_sub_cat_bow.shape)\n",
    "print(\"Shape of matrix after BOW vectorization -> categories: x_test : \",x_test_sub_sub_cat_bow.shape)"
   ]
  },
  {
   "cell_type": "markdown",
   "id": "f25d90ea",
   "metadata": {},
   "source": [
    "Vectorizing Categorical data: School State"
   ]
  },
  {
   "cell_type": "code",
   "execution_count": 47,
   "id": "a72e3da1",
   "metadata": {},
   "outputs": [
    {
     "name": "stdout",
     "output_type": "stream",
     "text": [
      "After vectorizations\n",
      "(65547, 51) (65547,)\n",
      "(21849, 51) (21849,)\n",
      "(21849, 51) (21849,)\n",
      "['ak' 'al' 'ar' 'az' 'ca' 'co' 'ct' 'dc' 'de' 'fl' 'ga' 'hi' 'ia' 'id'\n",
      " 'il' 'in' 'ks' 'ky' 'la' 'ma' 'md' 'me' 'mi' 'mn' 'mo' 'ms' 'mt' 'nc'\n",
      " 'nd' 'ne' 'nh' 'nj' 'nm' 'nv' 'ny' 'oh' 'ok' 'or' 'pa' 'ri' 'sc' 'sd'\n",
      " 'tn' 'tx' 'ut' 'va' 'vt' 'wa' 'wi' 'wv' 'wy']\n",
      "====================================================================================================\n"
     ]
    }
   ],
   "source": [
    "vectorizer_states = CountVectorizer()\n",
    "vectorizer_states.fit(x_train['school_state'].values) # fit has to happen only on train data\n",
    "\n",
    "# we use the fitted CountVectorizer to convert the text to vector\n",
    "X_train_state_ohe = vectorizer_states.transform(x_train['school_state'].values)\n",
    "X_cv_state_ohe = vectorizer_states.transform(x_cv['school_state'].values)\n",
    "X_test_state_ohe = vectorizer_states.transform(x_test['school_state'].values)\n",
    "\n",
    "print(\"After vectorizations\")\n",
    "print(X_train_state_ohe.shape, y_train.shape)\n",
    "print(X_cv_state_ohe.shape, y_cv.shape)\n",
    "print(X_test_state_ohe.shape, y_test.shape)\n",
    "print(vectorizer_states.get_feature_names_out())\n",
    "print(\"=\"*100)\n",
    "\n",
    "# refferred from Refence_sample solution"
   ]
  },
  {
   "cell_type": "code",
   "execution_count": 48,
   "id": "cf979f28",
   "metadata": {},
   "outputs": [
    {
     "data": {
      "text/plain": [
       "Index(['Unnamed: 0', 'id', 'teacher_id', 'teacher_prefix', 'school_state',\n",
       "       'project_submitted_datetime', 'project_grade_category',\n",
       "       'project_resource_summary',\n",
       "       'teacher_number_of_previously_posted_projects', 'project_is_approved',\n",
       "       'clean_categories', 'clean_subcategories', 'clean_grade',\n",
       "       'preprocessed_essays', 'preprocessed_titles', 'price', 'quantity'],\n",
       "      dtype='object')"
      ]
     },
     "execution_count": 48,
     "metadata": {},
     "output_type": "execute_result"
    }
   ],
   "source": [
    "data.columns"
   ]
  },
  {
   "cell_type": "markdown",
   "id": "e237f94c",
   "metadata": {},
   "source": [
    "Vectorizing Categorical data: teacher_prefix"
   ]
  },
  {
   "cell_type": "code",
   "execution_count": 49,
   "id": "31fa46c6",
   "metadata": {},
   "outputs": [
    {
     "name": "stdout",
     "output_type": "stream",
     "text": [
      "After vectorizations\n",
      "(65547, 5) (65547,)\n",
      "(21849, 5) (21849,)\n",
      "(21849, 5) (21849,)\n",
      "['dr' 'mr' 'mrs' 'ms' 'teacher']\n",
      "====================================================================================================\n"
     ]
    }
   ],
   "source": [
    "vectorizer_teacher = CountVectorizer()\n",
    "vectorizer_teacher.fit(x_train['teacher_prefix'].values) # fit has to happen only on train data\n",
    "\n",
    "# we use the fitted CountVectorizer to convert the text to vector\n",
    "X_train_teacher_ohe = vectorizer_teacher.transform(x_train['teacher_prefix'].values)\n",
    "X_cv_teacher_ohe = vectorizer_teacher.transform(x_cv['teacher_prefix'].values)\n",
    "X_test_teacher_ohe = vectorizer_teacher.transform(x_test['teacher_prefix'].values)\n",
    "\n",
    "print(\"After vectorizations\")\n",
    "print(X_train_teacher_ohe.shape, y_train.shape)\n",
    "print(X_cv_teacher_ohe.shape, y_cv.shape)\n",
    "print(X_test_teacher_ohe.shape, y_test.shape)\n",
    "print(vectorizer_teacher.get_feature_names_out())\n",
    "print(\"=\"*100)"
   ]
  },
  {
   "cell_type": "markdown",
   "id": "a8e6a40e",
   "metadata": {},
   "source": [
    "encoding categorical features: project_grade_category"
   ]
  },
  {
   "cell_type": "code",
   "execution_count": 50,
   "id": "5d3b19cf",
   "metadata": {},
   "outputs": [
    {
     "name": "stdout",
     "output_type": "stream",
     "text": [
      "After vectorizations\n",
      "(65547, 3) (65547,)\n",
      "(21849, 3) (21849,)\n",
      "(21849, 3) (21849,)\n",
      "['12' 'grades' 'prek']\n",
      "====================================================================================================\n"
     ]
    }
   ],
   "source": [
    "vectorizer_grade = CountVectorizer()\n",
    "vectorizer_grade.fit(x_train['project_grade_category'].values) # fit has to happen only on train data\n",
    "\n",
    "# we use the fitted CountVectorizer to convert the text to vector\n",
    "X_train_grade_ohe = vectorizer_grade.transform(x_train['project_grade_category'].values)\n",
    "X_cv_grade_ohe = vectorizer_grade.transform(x_cv['project_grade_category'].values)\n",
    "X_test_grade_ohe = vectorizer_grade.transform(x_test['project_grade_category'].values)\n",
    "\n",
    "print(\"After vectorizations\")\n",
    "print(X_train_grade_ohe.shape, y_train.shape)\n",
    "print(X_cv_grade_ohe.shape, y_cv.shape)\n",
    "print(X_test_grade_ohe.shape, y_test.shape)\n",
    "print(vectorizer_grade.get_feature_names_out())\n",
    "print(\"=\"*100)"
   ]
  },
  {
   "cell_type": "markdown",
   "id": "669ef919",
   "metadata": {},
   "source": [
    "Normalizing numerical features: Price"
   ]
  },
  {
   "cell_type": "code",
   "execution_count": 51,
   "id": "0f4561de",
   "metadata": {},
   "outputs": [
    {
     "name": "stdout",
     "output_type": "stream",
     "text": [
      "Shape of matrix after normalization -> price: x_train:  (65547, 1) (65547,)\n"
     ]
    }
   ],
   "source": [
    "\n",
    "from sklearn.preprocessing import Normalizer\n",
    "\n",
    "normalizer = Normalizer()\n",
    "\n",
    "normalizer.fit(x_train['price'].values.reshape(1,-1)) \n",
    "\n",
    "# Now normalize the data\n",
    "\n",
    "x_train_price_normalized = normalizer.transform(x_train['price'].values.reshape(1, -1)).reshape(-1,1)\n",
    "# x_test_price_normalized  = normalizer.transform(x_test['price'].values.reshape(1, -1)).reshape(-1,1)\n",
    "# x_cv_price_normalized    = normalizer.transform(x_cv['price'].values.reshape(1, -1)).reshape(-1,1)\n",
    "\n",
    "\n",
    "print(\"Shape of matrix after normalization -> price: x_train: \",x_train_price_normalized.shape, y_train.shape)\n",
    "# print(\"Shape of matrix after normalization -> price: x_cv   : \",X_cv_teacher_ohe.shape)\n",
    "# print(\"Shape of matrix after normalization -> price: x_test : \",X_test_teacher_ohe.shape)"
   ]
  },
  {
   "cell_type": "code",
   "execution_count": 52,
   "id": "75d810a3",
   "metadata": {},
   "outputs": [
    {
     "data": {
      "text/plain": [
       "(65547, 17)"
      ]
     },
     "execution_count": 52,
     "metadata": {},
     "output_type": "execute_result"
    }
   ],
   "source": [
    "x_train.shape\n"
   ]
  },
  {
   "cell_type": "code",
   "execution_count": 53,
   "id": "380a722f",
   "metadata": {},
   "outputs": [
    {
     "data": {
      "text/plain": [
       "(21849, 17)"
      ]
     },
     "execution_count": 53,
     "metadata": {},
     "output_type": "execute_result"
    }
   ],
   "source": [
    "x_test.shape"
   ]
  },
  {
   "cell_type": "code",
   "execution_count": 54,
   "id": "94b248f9",
   "metadata": {},
   "outputs": [
    {
     "name": "stdout",
     "output_type": "stream",
     "text": [
      "Shape of matrix after normalization -> price: x_test :  (21849, 1) (21849,)\n"
     ]
    }
   ],
   "source": [
    "# applying fit and transform seperately on train and test data\n",
    "\n",
    "from sklearn.preprocessing import Normalizer\n",
    "norm = Normalizer()\n",
    "norm.fit(x_test['price'].values.reshape(1,-1)) \n",
    "x_test_price_normalized  = norm.transform(x_test['price'].values.reshape(1, -1)).reshape(-1,1)\n",
    "print(\"Shape of matrix after normalization -> price: x_test : \",x_test_price_normalized.shape, y_test.shape)\n",
    "\n"
   ]
  },
  {
   "cell_type": "code",
   "execution_count": 55,
   "id": "8630d7cf",
   "metadata": {},
   "outputs": [
    {
     "name": "stdout",
     "output_type": "stream",
     "text": [
      "Shape of matrix after normalization -> price: x_cv:  (21849, 1) (21849,)\n"
     ]
    }
   ],
   "source": [
    "# applying fit and transform on CV data\n",
    "norm_cv = Normalizer()\n",
    "norm_cv.fit(x_cv['price'].values.reshape(1,-1))\n",
    "x_cv_price_normalized = norm_cv.transform(x_cv['price'].values.reshape(1, -1)).reshape(-1,1)\n",
    "print(\"Shape of matrix after normalization -> price: x_cv: \",x_cv_price_normalized.shape, y_cv.shape)\n"
   ]
  },
  {
   "cell_type": "code",
   "execution_count": 56,
   "id": "e53ac01a",
   "metadata": {},
   "outputs": [
    {
     "data": {
      "text/plain": [
       "(109245, 17)"
      ]
     },
     "execution_count": 56,
     "metadata": {},
     "output_type": "execute_result"
    }
   ],
   "source": [
    "data.shape"
   ]
  },
  {
   "cell_type": "code",
   "execution_count": 57,
   "id": "0b4aea61",
   "metadata": {},
   "outputs": [
    {
     "data": {
      "text/plain": [
       "array([[0.00059612],\n",
       "       [0.00143646],\n",
       "       [0.00069849],\n",
       "       ...,\n",
       "       [0.00139436],\n",
       "       [0.00275771],\n",
       "       [0.00182126]])"
      ]
     },
     "execution_count": 57,
     "metadata": {},
     "output_type": "execute_result"
    }
   ],
   "source": [
    "x_train_price_normalized"
   ]
  },
  {
   "cell_type": "markdown",
   "id": "d2860f8a",
   "metadata": {},
   "source": [
    "Normalizing numerical features: teacher_number_of_previously_posted_projects"
   ]
  },
  {
   "cell_type": "code",
   "execution_count": 58,
   "id": "2d353be2",
   "metadata": {},
   "outputs": [
    {
     "name": "stdout",
     "output_type": "stream",
     "text": [
      "Shape of matrix after normalization -> previous_projects: x_train:  (65547, 1) (65547,)\n"
     ]
    }
   ],
   "source": [
    "from sklearn.preprocessing import Normalizer\n",
    "norm = Normalizer()\n",
    "norm.fit(x_train['teacher_number_of_previously_posted_projects'].values.reshape(1,-1))\n",
    "x_train_teacher_number_of_previously_posted_projects_normalized = norm.transform(x_train['teacher_number_of_previously_posted_projects'].values.reshape(1, -1)).reshape(-1,1)\n",
    "print(\"Shape of matrix after normalization -> previous_projects: x_train: \",x_train_teacher_number_of_previously_posted_projects_normalized.shape, y_train.shape)\n"
   ]
  },
  {
   "cell_type": "code",
   "execution_count": 59,
   "id": "2598eff8",
   "metadata": {},
   "outputs": [
    {
     "name": "stdout",
     "output_type": "stream",
     "text": [
      "Shape of matrix after normalization -> previous_projects: x_test:  (21849, 1) (21849,)\n"
     ]
    }
   ],
   "source": [
    "# applying fit and transform on test data\n",
    "\n",
    "norm2 = Normalizer()\n",
    "norm2.fit(x_test['teacher_number_of_previously_posted_projects'].values.reshape(1,-1))\n",
    "x_test_teacher_number_of_previously_posted_projects_normalized = norm2.transform(x_test['teacher_number_of_previously_posted_projects'].values.reshape(1, -1)).reshape(-1,1)\n",
    "print(\"Shape of matrix after normalization -> previous_projects: x_test: \",x_test_teacher_number_of_previously_posted_projects_normalized.shape, y_test.shape)\n"
   ]
  },
  {
   "cell_type": "code",
   "execution_count": 60,
   "id": "5609bc6d",
   "metadata": {},
   "outputs": [
    {
     "name": "stdout",
     "output_type": "stream",
     "text": [
      "Shape of matrix after normalization -> previous_projects: x_cv:  (21849, 1) (21849,)\n"
     ]
    }
   ],
   "source": [
    "# applying fit and transform on CV data\n",
    "norm3 = Normalizer()\n",
    "norm3.fit(x_cv['teacher_number_of_previously_posted_projects'].values.reshape(1,-1))\n",
    "x_cv_teacher_number_of_previously_posted_projects_normalized = norm3.transform(x_cv['teacher_number_of_previously_posted_projects'].values.reshape(1, -1)).reshape(-1,1)\n",
    "print(\"Shape of matrix after normalization -> previous_projects: x_cv: \",x_cv_teacher_number_of_previously_posted_projects_normalized.shape, y_cv.shape)\n"
   ]
  },
  {
   "cell_type": "markdown",
   "id": "f51a0346",
   "metadata": {},
   "source": [
    "Vectorizing Text data: BOW"
   ]
  },
  {
   "cell_type": "markdown",
   "id": "4cfdbd76",
   "metadata": {},
   "source": [
    "BOW on Essays"
   ]
  },
  {
   "cell_type": "code",
   "execution_count": 61,
   "id": "e3af3315",
   "metadata": {},
   "outputs": [
    {
     "name": "stdout",
     "output_type": "stream",
     "text": [
      "Shape of matrix after BOW -> Essays: x_train:  (65547, 13561)\n",
      "Shape of matrix after BOW -> Essays: x_cv   :  (21849, 13561)\n",
      "Shape of matrix after BOW -> Essays: x_test :  (21849, 13561)\n"
     ]
    }
   ],
   "source": [
    "# We are considering only the words which appeared in at least 10 documents(rows or projects).\n",
    "vectorizer_essay_bow = CountVectorizer(min_df=10)\n",
    "\n",
    "vectorizer_essay_bow.fit(x_train['preprocessed_essays'])\n",
    "\n",
    "x_train_essays_bow = vectorizer_essay_bow.transform(x_train['preprocessed_essays'])\n",
    "x_cv_essays_bow    = vectorizer_essay_bow.transform(x_cv['preprocessed_essays'])\n",
    "x_test_essays_bow  = vectorizer_essay_bow.transform(x_test['preprocessed_essays'])\n",
    "\n",
    "print(\"Shape of matrix after BOW -> Essays: x_train: \",x_train_essays_bow.shape)\n",
    "print(\"Shape of matrix after BOW -> Essays: x_cv   : \",x_cv_essays_bow.shape)\n",
    "print(\"Shape of matrix after BOW -> Essays: x_test : \",x_test_essays_bow.shape)"
   ]
  },
  {
   "cell_type": "markdown",
   "id": "88a88d10",
   "metadata": {},
   "source": [
    "BOW on Title"
   ]
  },
  {
   "cell_type": "code",
   "execution_count": 62,
   "id": "b131381f",
   "metadata": {},
   "outputs": [
    {
     "name": "stdout",
     "output_type": "stream",
     "text": [
      "Shape of matrix after BOW -> titles: x_train:  (65547, 2393)\n",
      "Shape of matrix after BOW -> titles: x_cv   :  (21849, 2393)\n",
      "Shape of matrix after BOW -> titles: x_test :  (21849, 2393)\n"
     ]
    }
   ],
   "source": [
    "# We are considering only the words which appeared in at least 10 documents(rows or projects).\n",
    "vectorizer_titles_bow = CountVectorizer(min_df=10)\n",
    "\n",
    "vectorizer_titles_bow.fit(x_train['preprocessed_titles'])\n",
    "\n",
    "x_train_titles_bow = vectorizer_titles_bow.transform(x_train['preprocessed_titles'])\n",
    "x_cv_titles_bow    = vectorizer_titles_bow.transform(x_cv['preprocessed_titles'])\n",
    "x_test_titles_bow  = vectorizer_titles_bow.transform(x_test['preprocessed_titles'])\n",
    "\n",
    "print(\"Shape of matrix after BOW -> titles: x_train: \",x_train_titles_bow.shape)\n",
    "print(\"Shape of matrix after BOW -> titles: x_cv   : \",x_cv_titles_bow.shape)\n",
    "print(\"Shape of matrix after BOW -> titles: x_test : \",x_test_titles_bow.shape)"
   ]
  },
  {
   "cell_type": "markdown",
   "id": "77435e56",
   "metadata": {},
   "source": [
    "Vectorizing Text data: TFIDF"
   ]
  },
  {
   "cell_type": "markdown",
   "id": "9e90e96a",
   "metadata": {},
   "source": [
    "TFIDF on Essays"
   ]
  },
  {
   "cell_type": "code",
   "execution_count": 63,
   "id": "591721ed",
   "metadata": {},
   "outputs": [
    {
     "name": "stdout",
     "output_type": "stream",
     "text": [
      "Shape of matrix after TF-IDF -> Essay: x_train:  (65547, 13561)\n",
      "Shape of matrix after TF-IDF -> Essay: x_cv   :  (21849, 13561)\n",
      "Shape of matrix after TF-IDF -> Essay: x_test :  (21849, 13561)\n"
     ]
    }
   ],
   "source": [
    "from sklearn.feature_extraction.text import TfidfVectorizer\n",
    "vectorizer_essay_tfidf = TfidfVectorizer(min_df=10)\n",
    "\n",
    "vectorizer_essay_tfidf.fit(x_train['preprocessed_essays'])\n",
    "\n",
    "x_train_essays_tfidf = vectorizer_essay_tfidf.transform(x_train['preprocessed_essays'])\n",
    "x_cv_essays_tfidf    = vectorizer_essay_tfidf.transform(x_cv['preprocessed_essays'])\n",
    "x_test_essays_tfidf  = vectorizer_essay_tfidf.transform(x_test['preprocessed_essays'])\n",
    "\n",
    "print(\"Shape of matrix after TF-IDF -> Essay: x_train: \",x_train_essays_tfidf.shape)\n",
    "print(\"Shape of matrix after TF-IDF -> Essay: x_cv   : \",x_cv_essays_tfidf.shape)\n",
    "print(\"Shape of matrix after TF-IDF -> Essay: x_test : \",x_test_essays_tfidf.shape)"
   ]
  },
  {
   "cell_type": "markdown",
   "id": "e65421fa",
   "metadata": {},
   "source": [
    "TFIDF on Title"
   ]
  },
  {
   "cell_type": "code",
   "execution_count": 64,
   "id": "105ff6cb",
   "metadata": {},
   "outputs": [
    {
     "name": "stdout",
     "output_type": "stream",
     "text": [
      "Shape of matrix after TF-IDF -> titles: x_train:  (65547, 2393)\n",
      "Shape of matrix after TF-IDF -> titles: x_cv   :  (21849, 2393)\n",
      "Shape of matrix after TF-IDF -> titles: x_test :  (21849, 2393)\n"
     ]
    }
   ],
   "source": [
    "from sklearn.feature_extraction.text import TfidfVectorizer\n",
    "vectorizer_titles_tfidf = TfidfVectorizer(min_df=10)\n",
    "\n",
    "vectorizer_titles_tfidf.fit(x_train['preprocessed_titles'])\n",
    "\n",
    "x_train_titles_tfidf = vectorizer_titles_tfidf.transform(x_train['preprocessed_titles'])\n",
    "x_cv_titles_tfidf    = vectorizer_titles_tfidf.transform(x_cv['preprocessed_titles'])\n",
    "x_test_titles_tfidf  = vectorizer_titles_tfidf.transform(x_test['preprocessed_titles'])\n",
    "\n",
    "print(\"Shape of matrix after TF-IDF -> titles: x_train: \",x_train_titles_tfidf.shape)\n",
    "print(\"Shape of matrix after TF-IDF -> titles: x_cv   : \",x_cv_titles_tfidf.shape)\n",
    "print(\"Shape of matrix after TF-IDF -> titles: x_test : \",x_test_titles_tfidf.shape)"
   ]
  },
  {
   "cell_type": "markdown",
   "id": "776406dc",
   "metadata": {},
   "source": [
    "Merging all features using hstack"
   ]
  },
  {
   "cell_type": "code",
   "execution_count": 65,
   "id": "a9d76e96",
   "metadata": {},
   "outputs": [
    {
     "name": "stdout",
     "output_type": "stream",
     "text": [
      "Type -> Normalized -> x_train:  <class 'scipy.sparse._coo.coo_matrix'>\n",
      "Type -> Normalized -> x_test :  <class 'scipy.sparse._coo.coo_matrix'>\n",
      "Type -> Normalized -> x_cv   :  <class 'scipy.sparse._coo.coo_matrix'>\n",
      "\n",
      "\n",
      "Shape ->Normalized -> x_train:  (65547, 344)\n",
      "Shape -> Normalized -> x_test :  (21849, 344)\n",
      "Shape -> Normalized -> x_cv   :  (21849, 344)\n"
     ]
    }
   ],
   "source": [
    "from scipy.sparse import hstack\n",
    "\n",
    "x_train_normalized = hstack((x_train_sub_cat_bow, x_train_sub_sub_cat_bow, X_train_state_ohe, X_train_teacher_ohe, X_train_grade_ohe, x_train_price_normalized, x_train_teacher_number_of_previously_posted_projects_normalized))\n",
    "x_cv_normalized   = hstack((x_cv_sub_cat_bow, x_cv_sub_sub_cat_bow, X_cv_state_ohe, X_cv_teacher_ohe, X_cv_grade_ohe, x_cv_price_normalized, x_cv_teacher_number_of_previously_posted_projects_normalized))\n",
    "x_test_normalized  = hstack((x_test_sub_cat_bow, x_test_sub_sub_cat_bow, X_test_state_ohe, X_test_teacher_ohe, X_test_grade_ohe, x_test_price_normalized, x_test_teacher_number_of_previously_posted_projects_normalized))\n",
    "print(\"Type -> Normalized -> x_train: \",type(x_train_normalized))\n",
    "print(\"Type -> Normalized -> x_test : \",type(x_test_normalized))\n",
    "print(\"Type -> Normalized -> x_cv   : \",type(x_cv_normalized))\n",
    "print(\"\\n\")\n",
    "print(\"Shape ->Normalized -> x_train: \",x_train_normalized.shape)\n",
    "print(\"Shape -> Normalized -> x_test : \",x_test_normalized.shape)\n",
    "print(\"Shape -> Normalized -> x_cv   : \",x_cv_normalized.shape)"
   ]
  },
  {
   "cell_type": "markdown",
   "id": "d699787d",
   "metadata": {},
   "source": [
    "Creating SET1 categorical, numerical features + preprocessed_eassay (BOW)"
   ]
  },
  {
   "cell_type": "code",
   "execution_count": 66,
   "id": "61e152c8",
   "metadata": {},
   "outputs": [],
   "source": [
    "x_train_bow = hstack((x_train_normalized, x_train_essays_bow, x_train_titles_bow)).tocsr()\n",
    "x_cv_bow = hstack((x_cv_normalized, x_cv_essays_bow, x_cv_titles_bow)).tocsr()\n",
    "x_test_bow = hstack((x_test_normalized, x_test_essays_bow, x_test_titles_bow)).tocsr()"
   ]
  },
  {
   "cell_type": "markdown",
   "id": "8c4ecc8c",
   "metadata": {},
   "source": [
    "Creating SET2 categorical, numerical features + preprocessed_title (TFIDF)\n"
   ]
  },
  {
   "cell_type": "code",
   "execution_count": 67,
   "id": "e5363944",
   "metadata": {},
   "outputs": [],
   "source": [
    "x_train_tfidf = hstack((x_train_normalized, x_train_essays_tfidf, x_train_titles_tfidf)).tocsr()\n",
    "x_cv_tfidf = hstack((x_cv_normalized, x_cv_essays_tfidf, x_cv_titles_tfidf)).tocsr()\n",
    "x_test_tfidf = hstack((x_test_normalized, x_test_essays_tfidf, x_test_titles_tfidf)).tocsr()"
   ]
  },
  {
   "cell_type": "markdown",
   "id": "53ef859e",
   "metadata": {},
   "source": [
    "HyperParameter Tuning\n",
    "\n",
    "Finding best alpha value for Naive Bayes"
   ]
  },
  {
   "cell_type": "code",
   "execution_count": 68,
   "id": "b7bc4c89",
   "metadata": {},
   "outputs": [],
   "source": [
    "def batch_predict(clf, data):\n",
    "    # roc_auc_score(y_true, y_score) the 2nd parameter should be probability estimates of the positive class\n",
    "    # not the predicted outputs\n",
    "\n",
    "    y_data_pred = []\n",
    "    tr_loop = data.shape[0] - data.shape[0]%1000\n",
    "    # consider you X_tr shape is 49041, then your cr_loop will be 49041 - 49041%1000 = 49000\n",
    "    # in this for loop we will iterate unti the last 1000 multiplier\n",
    "    for i in range(0, tr_loop, 1000):\n",
    "        y_data_pred.extend(clf.predict_proba(data[i:i+1000])[:,1])\n",
    "    # we will be predicting for the last data points\n",
    "    y_data_pred.extend(clf.predict_proba(data[tr_loop:])[:,1])\n",
    "    \n",
    "    return y_data_pred"
   ]
  },
  {
   "cell_type": "markdown",
   "id": "127e0805",
   "metadata": {},
   "source": [
    "SET1 "
   ]
  },
  {
   "cell_type": "markdown",
   "id": "2fc7a0ed",
   "metadata": {},
   "source": [
    "Random Alpha values "
   ]
  },
  {
   "cell_type": "code",
   "execution_count": 69,
   "id": "99567fd0",
   "metadata": {},
   "outputs": [
    {
     "name": "stderr",
     "output_type": "stream",
     "text": [
      "100%|██████████| 9/9 [00:01<00:00,  4.63it/s]\n",
      "100%|██████████| 9/9 [00:00<?, ?it/s]\n"
     ]
    }
   ],
   "source": [
    "import matplotlib.pyplot as plt\n",
    "from sklearn.naive_bayes import MultinomialNB\n",
    "from sklearn.metrics import roc_auc_score\n",
    "import math\n",
    "\n",
    "train_auc = []\n",
    "cv_auc = []\n",
    "log_alphas = []\n",
    "\n",
    "alphas = [0.00001, 0.0001, 0.001, 0.01, 0.1, 1, 10,  100,  1000]\n",
    "\n",
    "for i in tqdm(alphas):\n",
    "    nb = MultinomialNB(alpha = i,class_prior=[0.5,0.5])\n",
    "    nb.fit(x_train_bow, y_train)\n",
    "\n",
    "    y_train_pred = batch_predict(nb, x_train_bow)    \n",
    "    y_cv_pred = batch_predict(nb, x_cv_bow)\n",
    "    \n",
    "\n",
    "    # roc_auc_score(y_true, y_score) the 2nd parameter should be probability estimates of the positive class\n",
    "    # not the predicted outputs        \n",
    "    train_auc.append(roc_auc_score(y_train,y_train_pred))\n",
    "    cv_auc.append(roc_auc_score(y_cv, y_cv_pred))\n",
    "\n",
    "# getting log alpha values\n",
    "for a in tqdm(alphas):\n",
    "    b = math.log(a)\n",
    "    log_alphas.append(b)"
   ]
  },
  {
   "cell_type": "code",
   "execution_count": 70,
   "id": "a043f2ac",
   "metadata": {},
   "outputs": [
    {
     "data": {
      "image/png": "[encoded data removed]",
      "text/plain": [
       "<Figure size 720x720 with 1 Axes>"
      ]
     },
     "metadata": {
      "needs_background": "light"
     },
     "output_type": "display_data"
    }
   ],
   "source": [
    "plt.figure(figsize=(10,10))\n",
    "plt.plot(log_alphas, train_auc, label='Train AUC')\n",
    "plt.plot(log_alphas, cv_auc, label='CV AUC')\n",
    "\n",
    "plt.scatter(log_alphas, train_auc, label='Train AUC points')\n",
    "plt.scatter(log_alphas, cv_auc, label='CV AUC points')\n",
    "\n",
    "plt.legend()\n",
    "plt.xlabel(\"log alpha: hyperparameter\")\n",
    "plt.ylabel(\"AUC\")\n",
    "plt.title(\"alpha: hyperparameter v/s AUC\")\n",
    "plt.grid()\n",
    "plt.show()"
   ]
  },
  {
   "cell_type": "markdown",
   "id": "129065b9",
   "metadata": {},
   "source": [
    "Using GridsearchCV to find best alpha value for Naive Bayes"
   ]
  },
  {
   "cell_type": "code",
   "execution_count": 71,
   "id": "feb7eeb7",
   "metadata": {},
   "outputs": [
    {
     "name": "stdout",
     "output_type": "stream",
     "text": [
      "Fitting 10 folds for each of 11 candidates, totalling 110 fits\n",
      "[CV] END ........................................alpha=1e-05; total time=   0.0s\n",
      "[CV] END ........................................alpha=1e-05; total time=   0.0s\n",
      "[CV] END ........................................alpha=1e-05; total time=   0.0s\n",
      "[CV] END ........................................alpha=1e-05; total time=   0.0s\n",
      "[CV] END ........................................alpha=1e-05; total time=   0.0s\n",
      "[CV] END ........................................alpha=1e-05; total time=   0.0s\n",
      "[CV] END ........................................alpha=1e-05; total time=   0.0s\n",
      "[CV] END ........................................alpha=1e-05; total time=   0.0s\n",
      "[CV] END ........................................alpha=1e-05; total time=   0.0s\n",
      "[CV] END ........................................alpha=1e-05; total time=   0.0s\n",
      "[CV] END .......................................alpha=0.0001; total time=   0.0s\n",
      "[CV] END .......................................alpha=0.0001; total time=   0.0s\n",
      "[CV] END .......................................alpha=0.0001; total time=   0.0s\n",
      "[CV] END .......................................alpha=0.0001; total time=   0.0s\n",
      "[CV] END .......................................alpha=0.0001; total time=   0.0s\n",
      "[CV] END .......................................alpha=0.0001; total time=   0.0s\n",
      "[CV] END .......................................alpha=0.0001; total time=   0.0s\n",
      "[CV] END .......................................alpha=0.0001; total time=   0.0s\n",
      "[CV] END .......................................alpha=0.0001; total time=   0.0s\n",
      "[CV] END .......................................alpha=0.0001; total time=   0.0s\n",
      "[CV] END ........................................alpha=0.001; total time=   0.0s\n",
      "[CV] END ........................................alpha=0.001; total time=   0.0s\n",
      "[CV] END ........................................alpha=0.001; total time=   0.0s\n",
      "[CV] END ........................................alpha=0.001; total time=   0.0s\n",
      "[CV] END ........................................alpha=0.001; total time=   0.0s\n",
      "[CV] END ........................................alpha=0.001; total time=   0.0s\n",
      "[CV] END ........................................alpha=0.001; total time=   0.0s\n",
      "[CV] END ........................................alpha=0.001; total time=   0.0s\n",
      "[CV] END ........................................alpha=0.001; total time=   0.0s\n",
      "[CV] END ........................................alpha=0.001; total time=   0.0s\n",
      "[CV] END .........................................alpha=0.01; total time=   0.0s\n",
      "[CV] END .........................................alpha=0.01; total time=   0.0s\n",
      "[CV] END .........................................alpha=0.01; total time=   0.0s\n",
      "[CV] END .........................................alpha=0.01; total time=   0.0s\n",
      "[CV] END .........................................alpha=0.01; total time=   0.0s\n",
      "[CV] END .........................................alpha=0.01; total time=   0.0s\n",
      "[CV] END .........................................alpha=0.01; total time=   0.0s\n",
      "[CV] END .........................................alpha=0.01; total time=   0.0s\n",
      "[CV] END .........................................alpha=0.01; total time=   0.0s\n",
      "[CV] END .........................................alpha=0.01; total time=   0.0s\n",
      "[CV] END ..........................................alpha=0.1; total time=   0.0s\n",
      "[CV] END ..........................................alpha=0.1; total time=   0.0s\n",
      "[CV] END ..........................................alpha=0.1; total time=   0.0s\n",
      "[CV] END ..........................................alpha=0.1; total time=   0.0s\n",
      "[CV] END ..........................................alpha=0.1; total time=   0.0s\n",
      "[CV] END ..........................................alpha=0.1; total time=   0.0s\n",
      "[CV] END ..........................................alpha=0.1; total time=   0.0s\n",
      "[CV] END ..........................................alpha=0.1; total time=   0.0s\n",
      "[CV] END ..........................................alpha=0.1; total time=   0.0s\n",
      "[CV] END ..........................................alpha=0.1; total time=   0.0s\n",
      "[CV] END ..........................................alpha=0.5; total time=   0.0s\n",
      "[CV] END ..........................................alpha=0.5; total time=   0.0s\n",
      "[CV] END ..........................................alpha=0.5; total time=   0.0s\n",
      "[CV] END ..........................................alpha=0.5; total time=   0.0s\n",
      "[CV] END ..........................................alpha=0.5; total time=   0.0s\n",
      "[CV] END ..........................................alpha=0.5; total time=   0.0s\n",
      "[CV] END ..........................................alpha=0.5; total time=   0.0s\n",
      "[CV] END ..........................................alpha=0.5; total time=   0.0s\n",
      "[CV] END ..........................................alpha=0.5; total time=   0.0s\n",
      "[CV] END ..........................................alpha=0.5; total time=   0.0s\n",
      "[CV] END ..........................................alpha=0.8; total time=   0.0s\n",
      "[CV] END ..........................................alpha=0.8; total time=   0.0s\n",
      "[CV] END ..........................................alpha=0.8; total time=   0.0s\n",
      "[CV] END ..........................................alpha=0.8; total time=   0.0s\n",
      "[CV] END ..........................................alpha=0.8; total time=   0.0s\n",
      "[CV] END ..........................................alpha=0.8; total time=   0.0s\n",
      "[CV] END ..........................................alpha=0.8; total time=   0.0s\n",
      "[CV] END ..........................................alpha=0.8; total time=   0.0s\n",
      "[CV] END ..........................................alpha=0.8; total time=   0.0s\n",
      "[CV] END ..........................................alpha=0.8; total time=   0.0s\n",
      "[CV] END ............................................alpha=1; total time=   0.0s\n",
      "[CV] END ............................................alpha=1; total time=   0.0s\n",
      "[CV] END ............................................alpha=1; total time=   0.0s\n",
      "[CV] END ............................................alpha=1; total time=   0.0s\n",
      "[CV] END ............................................alpha=1; total time=   0.0s\n",
      "[CV] END ............................................alpha=1; total time=   0.0s\n",
      "[CV] END ............................................alpha=1; total time=   0.0s\n",
      "[CV] END ............................................alpha=1; total time=   0.0s\n",
      "[CV] END ............................................alpha=1; total time=   0.0s\n",
      "[CV] END ............................................alpha=1; total time=   0.0s\n",
      "[CV] END ...........................................alpha=10; total time=   0.0s\n",
      "[CV] END ...........................................alpha=10; total time=   0.0s\n",
      "[CV] END ...........................................alpha=10; total time=   0.0s\n",
      "[CV] END ...........................................alpha=10; total time=   0.0s\n",
      "[CV] END ...........................................alpha=10; total time=   0.0s\n",
      "[CV] END ...........................................alpha=10; total time=   0.0s\n",
      "[CV] END ...........................................alpha=10; total time=   0.0s\n",
      "[CV] END ...........................................alpha=10; total time=   0.0s\n",
      "[CV] END ...........................................alpha=10; total time=   0.0s\n",
      "[CV] END ...........................................alpha=10; total time=   0.0s\n",
      "[CV] END ..........................................alpha=100; total time=   0.0s\n",
      "[CV] END ..........................................alpha=100; total time=   0.0s\n",
      "[CV] END ..........................................alpha=100; total time=   0.0s\n",
      "[CV] END ..........................................alpha=100; total time=   0.0s\n",
      "[CV] END ..........................................alpha=100; total time=   0.0s\n",
      "[CV] END ..........................................alpha=100; total time=   0.0s\n",
      "[CV] END ..........................................alpha=100; total time=   0.0s\n",
      "[CV] END ..........................................alpha=100; total time=   0.0s\n",
      "[CV] END ..........................................alpha=100; total time=   0.0s\n",
      "[CV] END ..........................................alpha=100; total time=   0.0s\n",
      "[CV] END .........................................alpha=1000; total time=   0.0s\n",
      "[CV] END .........................................alpha=1000; total time=   0.0s\n",
      "[CV] END .........................................alpha=1000; total time=   0.0s\n",
      "[CV] END .........................................alpha=1000; total time=   0.0s\n",
      "[CV] END .........................................alpha=1000; total time=   0.0s\n",
      "[CV] END .........................................alpha=1000; total time=   0.0s\n",
      "[CV] END .........................................alpha=1000; total time=   0.0s\n",
      "[CV] END .........................................alpha=1000; total time=   0.0s\n",
      "[CV] END .........................................alpha=1000; total time=   0.0s\n",
      "[CV] END .........................................alpha=1000; total time=   0.0s\n"
     ]
    }
   ],
   "source": [
    "from sklearn.model_selection import GridSearchCV\n",
    "\n",
    "nb = MultinomialNB(class_prior=[0.5,0.5])\n",
    "\n",
    "parameters = {'alpha':[0.00001, 0.0001,0.001, 0.01, 0.1,0.5,0.8, 1, 10,  100,  1000]}\n",
    "\n",
    "clf = GridSearchCV(nb, parameters, cv= 10, scoring='roc_auc',return_train_score=True,verbose=2)\n",
    "\n",
    "clf.fit(x_train_bow, y_train)\n",
    "\n",
    "train_auc= clf.cv_results_['mean_train_score']\n",
    "train_auc_std= clf.cv_results_['std_train_score']\n",
    "cv_auc = clf.cv_results_['mean_test_score'] \n",
    "cv_auc_std= clf.cv_results_['std_test_score']\n",
    "best_parameters = clf.best_params_\n",
    "best_score = clf.best_score_\n",
    "best_alpha = clf.best_estimator_.alpha\n"
   ]
  },
  {
   "cell_type": "code",
   "execution_count": 72,
   "id": "e078d7ef",
   "metadata": {},
   "outputs": [
    {
     "name": "stderr",
     "output_type": "stream",
     "text": [
      "100%|██████████| 11/11 [00:00<?, ?it/s]\n"
     ]
    },
    {
     "data": {
      "image/png": "[encoded data removed]",
      "text/plain": [
       "<Figure size 1440x720 with 1 Axes>"
      ]
     },
     "metadata": {
      "needs_background": "light"
     },
     "output_type": "display_data"
    }
   ],
   "source": [
    "alphas = [0.00001, 0.0001, 0.001, 0.01, 0.1,0.5,0.8, 1, 10,  100,  1000]\n",
    "log_alphas =[]\n",
    "\n",
    "for a in tqdm(alphas):\n",
    "    b = math.log(a)\n",
    "    log_alphas.append(b)\n",
    "\n",
    "plt.figure(figsize=(20,10))\n",
    "\n",
    "plt.plot(log_alphas, train_auc, label='Train AUC')\n",
    "# this code is copied from here: https://stackoverflow.com/a/48803361/4084039\n",
    "plt.gca().fill_between(log_alphas,train_auc - train_auc_std,train_auc + train_auc_std,alpha=0.1,color='darkblue')\n",
    "\n",
    "plt.plot(log_alphas, cv_auc, label='CV AUC')\n",
    "# this code is copied from here: https://stackoverflow.com/a/48803361/4084039\n",
    "plt.gca().fill_between(log_alphas,cv_auc - cv_auc_std,cv_auc + cv_auc_std,alpha=0.1,color='darkorange')\n",
    "\n",
    "plt.scatter(log_alphas, train_auc, label='Train AUC points')\n",
    "plt.scatter(log_alphas, cv_auc, label='CV AUC points')\n",
    "\n",
    "\n",
    "plt.legend()\n",
    "plt.xlabel(\"alpha: hyperparameter\")\n",
    "plt.ylabel(\"AUC\")\n",
    "plt.title(\"alpha: hyperparameter v/s AUC\")\n",
    "plt.grid(color='black', linestyle='-', linewidth=0.5)\n",
    "plt.show()"
   ]
  },
  {
   "cell_type": "code",
   "execution_count": 73,
   "id": "1cc1f289",
   "metadata": {},
   "outputs": [
    {
     "data": {
      "text/plain": [
       "0.5"
      ]
     },
     "execution_count": 73,
     "metadata": {},
     "output_type": "execute_result"
    }
   ],
   "source": [
    "best_alpha"
   ]
  },
  {
   "cell_type": "code",
   "execution_count": 74,
   "id": "c0601601",
   "metadata": {},
   "outputs": [
    {
     "data": {
      "text/plain": [
       "{'alpha': 0.5}"
      ]
     },
     "execution_count": 74,
     "metadata": {},
     "output_type": "execute_result"
    }
   ],
   "source": [
    "best_parameters"
   ]
  },
  {
   "cell_type": "code",
   "execution_count": 75,
   "id": "a7226495",
   "metadata": {},
   "outputs": [
    {
     "data": {
      "text/plain": [
       "0.7074570223284367"
      ]
     },
     "execution_count": 75,
     "metadata": {},
     "output_type": "execute_result"
    }
   ],
   "source": [
    "best_score"
   ]
  },
  {
   "cell_type": "code",
   "execution_count": 76,
   "id": "a1d7f507",
   "metadata": {},
   "outputs": [
    {
     "data": {
      "image/png": "[encoded data removed]",
      "text/plain": [
       "<Figure size 432x288 with 1 Axes>"
      ]
     },
     "metadata": {
      "needs_background": "light"
     },
     "output_type": "display_data"
    }
   ],
   "source": [
    "from sklearn.metrics import roc_curve, auc\n",
    "\n",
    "nb_bow = MultinomialNB(alpha = 0.5,class_prior=[0.5,0.5])\n",
    "\n",
    "nb_bow.fit(x_train_bow, y_train)\n",
    "# roc_auc_score(y_true, y_score) the 2nd parameter should be probability estimates of the positive class\n",
    "# not the predicted outputs\n",
    "\n",
    "y_train_pred = batch_predict(nb_bow, x_train_bow)    \n",
    "y_test_pred = batch_predict(nb_bow, x_test_bow)\n",
    "\n",
    "train_fpr, train_tpr, tr_thresholds = roc_curve(y_train, y_train_pred)\n",
    "test_fpr, test_tpr, te_thresholds = roc_curve(y_test, y_test_pred)\n",
    "\n",
    "plt.plot(train_fpr, train_tpr, label=\"Train AUC =\"+str(auc(train_fpr, train_tpr)))\n",
    "plt.plot(test_fpr, test_tpr, label=\"Test AUC =\"+str(auc(test_fpr, test_tpr)))\n",
    "plt.legend()\n",
    "plt.xlabel(\"True Positive Rate(TPR)\")\n",
    "plt.ylabel(\"False Positive Rate(FPR)\")\n",
    "plt.title(\"AUC\")\n",
    "plt.grid(color='black', linestyle='-', linewidth=0.5)\n",
    "plt.show()"
   ]
  },
  {
   "cell_type": "markdown",
   "id": "5f58340b",
   "metadata": {},
   "source": [
    "Confusion Matrix for Naive Bayes"
   ]
  },
  {
   "cell_type": "code",
   "execution_count": 77,
   "id": "61eb20fd",
   "metadata": {},
   "outputs": [],
   "source": [
    "def predict(proba, threshould, fpr, tpr):\n",
    "    \n",
    "    t = threshould[np.argmax(fpr*(1-tpr))]\n",
    "    \n",
    "    # (tpr*(1-fpr)) will be maximum if your fpr is very low and tpr is very high\n",
    "    \n",
    "    print(\"the maximum value of tpr*(1-fpr)\", max(tpr*(1-fpr)), \"for threshold\", np.round(t,3))\n",
    "    predictions = []\n",
    "    for i in proba:\n",
    "        if i>=t:\n",
    "            predictions.append(1)\n",
    "        else:\n",
    "            predictions.append(0)\n",
    "    return predictions"
   ]
  },
  {
   "cell_type": "code",
   "execution_count": 78,
   "id": "0ab20c9f",
   "metadata": {},
   "outputs": [
    {
     "name": "stdout",
     "output_type": "stream",
     "text": [
      "the maximum value of tpr*(1-fpr) 0.24999999746207385 for threshold 0.028\n",
      "Train Confusion Matrix\n"
     ]
    },
    {
     "data": {
      "image/png": "[encoded data removed]",
      "text/plain": [
       "<Figure size 432x288 with 2 Axes>"
      ]
     },
     "metadata": {},
     "output_type": "display_data"
    }
   ],
   "source": [
    "from sklearn.metrics import confusion_matrix\n",
    "import seaborn as sns\n",
    "\n",
    "conf_matr_df_train_1 = pd.DataFrame(confusion_matrix(y_train, predict(y_train_pred, tr_thresholds, train_fpr, train_fpr)), range(2),range(2))\n",
    "\n",
    "sns.set(font_scale=1.4)#for label size\n",
    "sns.heatmap(conf_matr_df_train_1, annot=True,annot_kws={\"size\": 16}, fmt='g')\n",
    "print(\"Train Confusion Matrix\")"
   ]
  },
  {
   "cell_type": "code",
   "execution_count": 79,
   "id": "6baf2bd4",
   "metadata": {},
   "outputs": [
    {
     "name": "stdout",
     "output_type": "stream",
     "text": [
      "the maximum value of tpr*(1-fpr) 0.24999990861624524 for threshold 0.946\n",
      "test Confusion Matrix\n"
     ]
    },
    {
     "data": {
      "image/png": "[encoded data removed]",
      "text/plain": [
       "<Figure size 432x288 with 2 Axes>"
      ]
     },
     "metadata": {},
     "output_type": "display_data"
    }
   ],
   "source": [
    "# for test confusion matrix\n",
    "conf_matr_df_test_1 = pd.DataFrame(confusion_matrix(y_test, predict(y_test_pred, tr_thresholds, test_fpr, test_fpr)), range(2),range(2))\n",
    "\n",
    "sns.set(font_scale=1.4)#for label size\n",
    "sns.heatmap(conf_matr_df_test_1, annot=True,annot_kws={\"size\": 16}, fmt='g')\n",
    "print(\"test Confusion Matrix\")"
   ]
  },
  {
   "cell_type": "markdown",
   "id": "9e868154",
   "metadata": {},
   "source": [
    "SET 2"
   ]
  },
  {
   "cell_type": "code",
   "execution_count": 80,
   "id": "f2200f20",
   "metadata": {},
   "outputs": [
    {
     "name": "stderr",
     "output_type": "stream",
     "text": [
      "100%|██████████| 11/11 [00:02<00:00,  4.80it/s]\n",
      "100%|██████████| 11/11 [00:00<?, ?it/s]\n"
     ]
    }
   ],
   "source": [
    "train_auc = []\n",
    "cv_auc = []\n",
    "log_alphas =[]\n",
    "\n",
    "alphas = [0.00001, 0.0001, 0.001, 0.01, 0.1,0.5,0.8, 1, 10,  100,  1000]\n",
    "\n",
    "for i in tqdm(alphas):\n",
    "    nb = MultinomialNB(alpha = i,class_prior=[0.5,0.5])\n",
    "    nb.fit(x_train_tfidf, y_train)\n",
    "\n",
    "    y_train_pred = batch_predict(nb, x_train_tfidf)    \n",
    "    y_cv_pred = batch_predict(nb, x_cv_tfidf)\n",
    "    \n",
    "\n",
    "    # roc_auc_score(y_true, y_score) the 2nd parameter should be probability estimates of the positive class\n",
    "    # not the predicted outputs        \n",
    "    train_auc.append(roc_auc_score(y_train,y_train_pred))\n",
    "    cv_auc.append(roc_auc_score(y_cv, y_cv_pred))\n",
    "\n",
    "for a in tqdm(alphas):\n",
    "    b = math.log(a)\n",
    "    log_alphas.append(b)"
   ]
  },
  {
   "cell_type": "code",
   "execution_count": 81,
   "id": "13533256",
   "metadata": {},
   "outputs": [
    {
     "data": {
      "image/png": "[encoded data removed]",
      "text/plain": [
       "<Figure size 1440x720 with 1 Axes>"
      ]
     },
     "metadata": {},
     "output_type": "display_data"
    }
   ],
   "source": [
    "plt.figure(figsize=(20,10))\n",
    "\n",
    "plt.plot(log_alphas, train_auc, label='Train AUC')\n",
    "plt.plot(log_alphas, cv_auc, label='CV AUC')\n",
    "\n",
    "plt.scatter(log_alphas, train_auc, label='Train AUC points')\n",
    "plt.scatter(log_alphas, cv_auc, label='CV AUC points')\n",
    "\n",
    "plt.legend()\n",
    "plt.xlabel(\"alpha: hyperparameter\")\n",
    "plt.ylabel(\"AUC\")\n",
    "plt.title(\"alpha: hyperparameter v/s AUC\")\n",
    "plt.grid(color='black', linestyle='-', linewidth=0.5)\n",
    "plt.show()"
   ]
  },
  {
   "cell_type": "markdown",
   "id": "4493e179",
   "metadata": {},
   "source": [
    "GridsearchCV to find best alpha value for Naive Bayes"
   ]
  },
  {
   "cell_type": "code",
   "execution_count": 82,
   "id": "b6ce701c",
   "metadata": {},
   "outputs": [
    {
     "name": "stdout",
     "output_type": "stream",
     "text": [
      "Fitting 10 folds for each of 10 candidates, totalling 100 fits\n",
      "[CV] END ........................................alpha=1e-05; total time=   0.0s\n",
      "[CV] END ........................................alpha=1e-05; total time=   0.0s\n",
      "[CV] END ........................................alpha=1e-05; total time=   0.0s\n",
      "[CV] END ........................................alpha=1e-05; total time=   0.0s\n",
      "[CV] END ........................................alpha=1e-05; total time=   0.0s\n",
      "[CV] END ........................................alpha=1e-05; total time=   0.0s\n",
      "[CV] END ........................................alpha=1e-05; total time=   0.0s\n",
      "[CV] END ........................................alpha=1e-05; total time=   0.0s\n",
      "[CV] END ........................................alpha=1e-05; total time=   0.0s\n",
      "[CV] END ........................................alpha=1e-05; total time=   0.0s\n",
      "[CV] END .......................................alpha=0.0001; total time=   0.0s\n",
      "[CV] END .......................................alpha=0.0001; total time=   0.0s\n",
      "[CV] END .......................................alpha=0.0001; total time=   0.0s\n",
      "[CV] END .......................................alpha=0.0001; total time=   0.0s\n",
      "[CV] END .......................................alpha=0.0001; total time=   0.0s\n",
      "[CV] END .......................................alpha=0.0001; total time=   0.0s\n",
      "[CV] END .......................................alpha=0.0001; total time=   0.0s\n",
      "[CV] END .......................................alpha=0.0001; total time=   0.0s\n",
      "[CV] END .......................................alpha=0.0001; total time=   0.0s\n",
      "[CV] END .......................................alpha=0.0001; total time=   0.0s\n",
      "[CV] END ........................................alpha=0.001; total time=   0.0s\n",
      "[CV] END ........................................alpha=0.001; total time=   0.0s\n",
      "[CV] END ........................................alpha=0.001; total time=   0.0s\n",
      "[CV] END ........................................alpha=0.001; total time=   0.0s\n",
      "[CV] END ........................................alpha=0.001; total time=   0.0s\n",
      "[CV] END ........................................alpha=0.001; total time=   0.0s\n",
      "[CV] END ........................................alpha=0.001; total time=   0.0s\n",
      "[CV] END ........................................alpha=0.001; total time=   0.0s\n",
      "[CV] END ........................................alpha=0.001; total time=   0.0s\n",
      "[CV] END ........................................alpha=0.001; total time=   0.0s\n",
      "[CV] END .........................................alpha=0.01; total time=   0.0s\n",
      "[CV] END .........................................alpha=0.01; total time=   0.0s\n",
      "[CV] END .........................................alpha=0.01; total time=   0.0s\n",
      "[CV] END .........................................alpha=0.01; total time=   0.0s\n",
      "[CV] END .........................................alpha=0.01; total time=   0.0s\n",
      "[CV] END .........................................alpha=0.01; total time=   0.0s\n",
      "[CV] END .........................................alpha=0.01; total time=   0.0s\n",
      "[CV] END .........................................alpha=0.01; total time=   0.0s\n",
      "[CV] END .........................................alpha=0.01; total time=   0.0s\n",
      "[CV] END .........................................alpha=0.01; total time=   0.0s\n",
      "[CV] END ..........................................alpha=0.1; total time=   0.0s\n",
      "[CV] END ..........................................alpha=0.1; total time=   0.0s\n",
      "[CV] END ..........................................alpha=0.1; total time=   0.0s\n",
      "[CV] END ..........................................alpha=0.1; total time=   0.0s\n",
      "[CV] END ..........................................alpha=0.1; total time=   0.0s\n",
      "[CV] END ..........................................alpha=0.1; total time=   0.0s\n",
      "[CV] END ..........................................alpha=0.1; total time=   0.0s\n",
      "[CV] END ..........................................alpha=0.1; total time=   0.0s\n",
      "[CV] END ..........................................alpha=0.1; total time=   0.0s\n",
      "[CV] END ..........................................alpha=0.1; total time=   0.0s\n",
      "[CV] END .........................................alpha=0.25; total time=   0.0s\n",
      "[CV] END .........................................alpha=0.25; total time=   0.0s\n",
      "[CV] END .........................................alpha=0.25; total time=   0.0s\n",
      "[CV] END .........................................alpha=0.25; total time=   0.0s\n",
      "[CV] END .........................................alpha=0.25; total time=   0.0s\n",
      "[CV] END .........................................alpha=0.25; total time=   0.0s\n",
      "[CV] END .........................................alpha=0.25; total time=   0.0s\n",
      "[CV] END .........................................alpha=0.25; total time=   0.0s\n",
      "[CV] END .........................................alpha=0.25; total time=   0.0s\n",
      "[CV] END .........................................alpha=0.25; total time=   0.0s\n",
      "[CV] END ..........................................alpha=0.5; total time=   0.0s\n",
      "[CV] END ..........................................alpha=0.5; total time=   0.0s\n",
      "[CV] END ..........................................alpha=0.5; total time=   0.0s\n",
      "[CV] END ..........................................alpha=0.5; total time=   0.0s\n",
      "[CV] END ..........................................alpha=0.5; total time=   0.0s\n",
      "[CV] END ..........................................alpha=0.5; total time=   0.0s\n",
      "[CV] END ..........................................alpha=0.5; total time=   0.0s\n",
      "[CV] END ..........................................alpha=0.5; total time=   0.1s\n",
      "[CV] END ..........................................alpha=0.5; total time=   0.0s\n",
      "[CV] END ..........................................alpha=0.5; total time=   0.0s\n",
      "[CV] END ..........................................alpha=0.8; total time=   0.0s\n",
      "[CV] END ..........................................alpha=0.8; total time=   0.0s\n",
      "[CV] END ..........................................alpha=0.8; total time=   0.0s\n",
      "[CV] END ..........................................alpha=0.8; total time=   0.0s\n",
      "[CV] END ..........................................alpha=0.8; total time=   0.0s\n",
      "[CV] END ..........................................alpha=0.8; total time=   0.0s\n",
      "[CV] END ..........................................alpha=0.8; total time=   0.0s\n",
      "[CV] END ..........................................alpha=0.8; total time=   0.0s\n",
      "[CV] END ..........................................alpha=0.8; total time=   0.0s\n",
      "[CV] END ..........................................alpha=0.8; total time=   0.0s\n",
      "[CV] END ............................................alpha=1; total time=   0.0s\n",
      "[CV] END ............................................alpha=1; total time=   0.0s\n",
      "[CV] END ............................................alpha=1; total time=   0.0s\n",
      "[CV] END ............................................alpha=1; total time=   0.0s\n",
      "[CV] END ............................................alpha=1; total time=   0.0s\n",
      "[CV] END ............................................alpha=1; total time=   0.0s\n",
      "[CV] END ............................................alpha=1; total time=   0.0s\n",
      "[CV] END ............................................alpha=1; total time=   0.0s\n",
      "[CV] END ............................................alpha=1; total time=   0.0s\n",
      "[CV] END ............................................alpha=1; total time=   0.0s\n",
      "[CV] END ..........................................alpha=100; total time=   0.0s\n",
      "[CV] END ..........................................alpha=100; total time=   0.0s\n",
      "[CV] END ..........................................alpha=100; total time=   0.0s\n",
      "[CV] END ..........................................alpha=100; total time=   0.0s\n",
      "[CV] END ..........................................alpha=100; total time=   0.0s\n",
      "[CV] END ..........................................alpha=100; total time=   0.0s\n",
      "[CV] END ..........................................alpha=100; total time=   0.0s\n",
      "[CV] END ..........................................alpha=100; total time=   0.0s\n",
      "[CV] END ..........................................alpha=100; total time=   0.0s\n",
      "[CV] END ..........................................alpha=100; total time=   0.0s\n"
     ]
    }
   ],
   "source": [
    "nb = MultinomialNB(class_prior=[0.5,0.5])\n",
    "\n",
    "parameters = {'alpha':[0.00001, 0.0001, 0.001, 0.01, 0.1,0.25,0.5,0.8, 1,100]}\n",
    "\n",
    "clf = GridSearchCV(nb, parameters, cv= 10, scoring='roc_auc',return_train_score=True,verbose=2)\n",
    "\n",
    "clf.fit(x_train_tfidf, y_train)\n",
    "\n",
    "train_auc= clf.cv_results_['mean_train_score']\n",
    "train_auc_std= clf.cv_results_['std_train_score']\n",
    "cv_auc = clf.cv_results_['mean_test_score'] \n",
    "cv_auc_std= clf.cv_results_['std_test_score']\n",
    "best_parameters = clf.best_params_\n",
    "best_score = clf.best_score_\n",
    "best_alpha = clf.best_estimator_.alpha"
   ]
  },
  {
   "cell_type": "code",
   "execution_count": 83,
   "id": "96922ba9",
   "metadata": {},
   "outputs": [
    {
     "name": "stderr",
     "output_type": "stream",
     "text": [
      "100%|██████████| 10/10 [00:00<?, ?it/s]\n"
     ]
    },
    {
     "data": {
      "image/png": "[encoded data removed]",
      "text/plain": [
       "<Figure size 1440x720 with 1 Axes>"
      ]
     },
     "metadata": {},
     "output_type": "display_data"
    }
   ],
   "source": [
    "alphas = [0.00001, 0.0001, 0.001, 0.01, 0.1,0.25,0.5,0.8, 1,100]\n",
    "log_alphas =[]\n",
    "\n",
    "for a in tqdm(alphas):\n",
    "    b = math.log(a)\n",
    "    log_alphas.append(b)\n",
    "\n",
    "plt.figure(figsize=(20,10))\n",
    "\n",
    "plt.plot(log_alphas, train_auc, label='Train AUC')\n",
    "# this code is copied from here: https://stackoverflow.com/a/48803361/4084039\n",
    "plt.gca().fill_between(log_alphas,train_auc - train_auc_std,train_auc + train_auc_std,alpha=0.3,color='darkblue')\n",
    "\n",
    "plt.plot(log_alphas, cv_auc, label='CV AUC')\n",
    "# this code is copied from here: https://stackoverflow.com/a/48803361/4084039\n",
    "plt.gca().fill_between(log_alphas,cv_auc - cv_auc_std,cv_auc + cv_auc_std,alpha=0.3,color='darkorange')\n",
    "\n",
    "plt.scatter(log_alphas, train_auc, label='Train AUC points')\n",
    "plt.scatter(log_alphas, cv_auc, label='CV AUC points')\n",
    "\n",
    "\n",
    "plt.legend()\n",
    "plt.xlabel(\"log alpha: hyperparameter\")\n",
    "plt.ylabel(\"AUC\")\n",
    "plt.title(\"alpha: hyperparameter v/s AUC\")\n",
    "plt.grid(color='black', linestyle='-', linewidth=0.5)\n",
    "plt.show()"
   ]
  },
  {
   "cell_type": "markdown",
   "id": "839e1d0d",
   "metadata": {},
   "source": [
    "Using best alpha value for Naive Bayes"
   ]
  },
  {
   "cell_type": "code",
   "execution_count": 84,
   "id": "ce8f4d45",
   "metadata": {},
   "outputs": [
    {
     "data": {
      "text/plain": [
       "{'alpha': 0.1}"
      ]
     },
     "execution_count": 84,
     "metadata": {},
     "output_type": "execute_result"
    }
   ],
   "source": [
    "best_parameters"
   ]
  },
  {
   "cell_type": "code",
   "execution_count": 93,
   "id": "23eeabd8",
   "metadata": {},
   "outputs": [
    {
     "name": "stdout",
     "output_type": "stream",
     "text": [
      "{'alpha': 0.1}\n"
     ]
    },
    {
     "data": {
      "image/png": "[encoded data removed]",
      "text/plain": [
       "<Figure size 432x288 with 1 Axes>"
      ]
     },
     "metadata": {},
     "output_type": "display_data"
    }
   ],
   "source": [
    "best_alpha2=clf.best_params_\n",
    "print(best_alpha2)\n",
    "\n",
    "nb_tfidf = MultinomialNB(alpha = best_alpha,class_prior=[0.5,0.5])\n",
    "\n",
    "nb_tfidf.fit(x_train_tfidf, y_train)\n",
    "# roc_auc_score(y_true, y_score) the 2nd parameter should be probability estimates of the positive class\n",
    "# not the predicted outputs\n",
    "\n",
    "y_train_pred = batch_predict(nb_tfidf, x_train_tfidf)    \n",
    "y_test_pred = batch_predict(nb_tfidf, x_test_tfidf)\n",
    "\n",
    "train_fpr, train_tpr, tr_thresholds = roc_curve(y_train, y_train_pred)\n",
    "test_fpr, test_tpr, te_thresholds = roc_curve(y_test, y_test_pred)\n",
    "\n",
    "plt.plot(train_fpr, train_tpr, label=\"Train AUC =\"+str(auc(train_fpr, train_tpr)))\n",
    "plt.plot(test_fpr, test_tpr, label=\"Test AUC =\"+str(auc(test_fpr, test_tpr)))\n",
    "plt.legend()\n",
    "plt.xlabel(\"True Positive Rate(TPR)\")\n",
    "plt.ylabel(\"False Positive Rate(FPR)\")\n",
    "plt.title(\"AUC\")\n",
    "plt.grid(color='black', linestyle='-', linewidth=0.5)\n",
    "plt.show()"
   ]
  },
  {
   "cell_type": "markdown",
   "id": "af1e00b4",
   "metadata": {},
   "source": [
    "Confusion Matrix for trained Naive Bayes"
   ]
  },
  {
   "cell_type": "code",
   "execution_count": 86,
   "id": "072cf06e",
   "metadata": {},
   "outputs": [
    {
     "name": "stdout",
     "output_type": "stream",
     "text": [
      "the maximum value of tpr*(1-fpr) 0.24999999746207385 for threshold 0.355\n",
      "Train Confusion Matrix:\n"
     ]
    },
    {
     "data": {
      "image/png": "[encoded data removed]",
      "text/plain": [
       "<Figure size 432x288 with 2 Axes>"
      ]
     },
     "metadata": {},
     "output_type": "display_data"
    }
   ],
   "source": [
    "conf_matr_df_train_2 = pd.DataFrame(confusion_matrix(y_train, predict(y_train_pred, tr_thresholds, train_fpr, train_fpr)), range(2),range(2))\n",
    "sns.set(font_scale=1.4)#for label size\n",
    "sns.heatmap(conf_matr_df_train_2, annot=True,annot_kws={\"size\": 16}, fmt='g')\n",
    "print(\"Train Confusion Matrix:\")"
   ]
  },
  {
   "cell_type": "markdown",
   "id": "6d777269",
   "metadata": {},
   "source": [
    "Confusion Matrix for test data"
   ]
  },
  {
   "cell_type": "code",
   "execution_count": 87,
   "id": "ee449914",
   "metadata": {},
   "outputs": [
    {
     "name": "stdout",
     "output_type": "stream",
     "text": [
      "the maximum value of tpr*(1-fpr) 0.25 for threshold 0.624\n",
      "test confusion matrix\n"
     ]
    },
    {
     "data": {
      "image/png": "[encoded data removed]",
      "text/plain": [
       "<Figure size 432x288 with 2 Axes>"
      ]
     },
     "metadata": {},
     "output_type": "display_data"
    }
   ],
   "source": [
    "conf_matr_df_test_2 = pd.DataFrame(confusion_matrix(y_test, predict(y_test_pred, tr_thresholds, test_fpr, test_fpr)), range(2),range(2))\n",
    "sns.set(font_scale=1.4)#for label size\n",
    "sns.heatmap(conf_matr_df_test_2, annot=True,annot_kws={\"size\": 16}, fmt='g')\n",
    "print(\"test confusion matrix\")"
   ]
  },
  {
   "cell_type": "markdown",
   "id": "698c7ba3",
   "metadata": {},
   "source": [
    "Selecting top 20 features from SET 1"
   ]
  },
  {
   "cell_type": "markdown",
   "id": "1aad92c6",
   "metadata": {},
   "source": [
    "TOP Positive Features from SET 1"
   ]
  },
  {
   "cell_type": "code",
   "execution_count": 88,
   "id": "a870a020",
   "metadata": {},
   "outputs": [
    {
     "data": {
      "text/plain": [
       "16296"
      ]
     },
     "execution_count": 88,
     "metadata": {},
     "output_type": "execute_result"
    }
   ],
   "source": [
    "\n",
    "\n",
    "bow_feature_names_set1 = []\n",
    "\n",
    "\n",
    "for i in vectorizer_sub_cat.get_feature_names_out():\n",
    "    bow_feature_names_set1.append(i)\n",
    "\n",
    "for i in vectorizer_sub_sub_cat.get_feature_names_out():\n",
    "    bow_feature_names_set1.append(i)\n",
    "\n",
    "for i in vectorizer_states.get_feature_names_out():\n",
    "    bow_feature_names_set1.append(i)\n",
    "\n",
    "for i in vectorizer_grade.get_feature_names_out():\n",
    "    bow_feature_names_set1.append(i)\n",
    "\n",
    "for i in vectorizer_teacher.get_feature_names_out():\n",
    "    bow_feature_names_set1.append(i)\n",
    "\n",
    "for i in vectorizer_essay_bow.get_feature_names_out():\n",
    "    bow_feature_names_set1.append(i)\n",
    "\n",
    "for i in vectorizer_titles_bow.get_feature_names_out():\n",
    "    bow_feature_names_set1.append(i)\n",
    "\n",
    "\n",
    "len(bow_feature_names_set1)\n",
    "\n"
   ]
  },
  {
   "cell_type": "code",
   "execution_count": 89,
   "id": "c2228eab",
   "metadata": {},
   "outputs": [],
   "source": [
    "bow_feature_names_set1.append(\"price\")\n",
    "\n",
    "\n",
    "bow_feature_names_set1.append(\"quantity\")\n",
    "\n",
    "\n",
    "bow_feature_names_set1.append(\"prev_proposed_projects\")\n",
    "\n",
    "bow_feature_names_set1.append(\"title_word_count\")\n",
    "\n",
    "bow_feature_names_set1.append(\"essay_word_count\")\n"
   ]
  },
  {
   "cell_type": "code",
   "execution_count": 90,
   "id": "4939aa3e",
   "metadata": {},
   "outputs": [
    {
     "data": {
      "text/plain": [
       "16301"
      ]
     },
     "execution_count": 90,
     "metadata": {},
     "output_type": "execute_result"
    }
   ],
   "source": [
    "len(bow_feature_names_set1)"
   ]
  },
  {
   "cell_type": "code",
   "execution_count": 102,
   "id": "66597a9b",
   "metadata": {},
   "outputs": [
    {
     "name": "stdout",
     "output_type": "stream",
     "text": [
      "studies\n",
      "schoolers\n",
      "learniture\n",
      "classwork\n",
      "learner\n",
      "helper\n",
      "ms\n",
      "maple\n",
      "napkins\n",
      "neediest\n",
      "workbook\n",
      "reads\n",
      "used\n",
      "loved\n",
      "days\n",
      "abound\n",
      "comedians\n",
      "classes\n",
      "wound\n",
      "tectonics\n"
     ]
    }
   ],
   "source": [
    "# Top 20 positive features set1\n",
    "pos_class_prob_sorted = nb_bow.feature_log_prob_[1, :].argsort()[::-1][:16300]\n",
    "for i in pos_class_prob_sorted[:20]:\n",
    "    print(bow_feature_names_set1[i])"
   ]
  },
  {
   "cell_type": "code",
   "execution_count": 103,
   "id": "d57fda17",
   "metadata": {},
   "outputs": [
    {
     "name": "stdout",
     "output_type": "stream",
     "text": [
      "studies\n",
      "schoolers\n",
      "learniture\n",
      "classwork\n",
      "learner\n",
      "helper\n",
      "ms\n",
      "napkins\n",
      "maple\n",
      "neediest\n",
      "workbook\n",
      "comedians\n",
      "loved\n",
      "reads\n",
      "abound\n",
      "math\n",
      "skip\n",
      "days\n",
      "used\n",
      "classes\n"
     ]
    }
   ],
   "source": [
    "# top 20 negative features set1\n",
    "neg_class_prob_sorted = nb_bow.feature_log_prob_[0, :].argsort()[::-1][:16300]\n",
    "for i in neg_class_prob_sorted[0:20]:\n",
    "    print(bow_feature_names_set1[i])"
   ]
  },
  {
   "cell_type": "code",
   "execution_count": 105,
   "id": "4d83477a",
   "metadata": {},
   "outputs": [
    {
     "name": "stdout",
     "output_type": "stream",
     "text": [
      "+--------------+---------------+-----------------------+-----------+\n",
      "|  Vectorizer  |     Model     | Alpha:Hyper Parameter |  Test AUC |\n",
      "+--------------+---------------+-----------------------+-----------+\n",
      "| Bag of Words | MultinomialNB |          0.5          |   0.7873  |\n",
      "|    TF-IDF    | MultinomialNB |          0.1          |   0.6700  |\n",
      "+--------------+---------------+-----------------------+-----------+\n"
     ]
    }
   ],
   "source": [
    "from prettytable import PrettyTable\n",
    "pt = PrettyTable()\n",
    "pt.field_names = [\"Vectorizer\", \"Model\", \"Alpha:Hyper Parameter\", \" Test AUC\"]\n",
    "\n",
    "pt.add_row([\"Bag of Words\", \"MultinomialNB\", \"0.5\", \"0.7873\"])\n",
    "pt.add_row([\"TF-IDF\", \"MultinomialNB\", \"0.1\", \"0.6700\"])\n",
    "print(pt)\n"
   ]
  },
  {
   "cell_type": "code",
   "execution_count": null,
   "id": "a8b371b5",
   "metadata": {},
   "outputs": [],
   "source": []
  }
 ],
 "metadata": {
  "interpreter": {
   "hash": "76718d10600b3e4a381e345085bd2bf4481b0b1dbc5d7c492003524dff0e2f01"
  },
  "kernelspec": {
   "display_name": "Python 3 (ipykernel)",
   "language": "python",
   "name": "python3"
  },
  "language_info": {
   "codemirror_mode": {
    "name": "ipython",
    "version": 3
   },
   "file_extension": ".py",
   "mimetype": "text/x-python",
   "name": "python",
   "nbconvert_exporter": "python",
   "pygments_lexer": "ipython3",
   "version": "3.10.2"
  }
 },
 "nbformat": 4,
 "nbformat_minor": 5
}
